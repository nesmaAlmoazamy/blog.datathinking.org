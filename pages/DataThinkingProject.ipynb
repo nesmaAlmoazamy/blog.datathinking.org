{
  "nbformat": 4,
  "nbformat_minor": 0,
  "metadata": {
    "colab": {
      "provenance": []
    },
    "kernelspec": {
      "name": "python3",
      "display_name": "Python 3"
    },
    "language_info": {
      "name": "python"
    },
    "widgets": {
      "application/vnd.jupyter.widget-state+json": {
        "f9cfa3a51a7241a58202b0f31f42e6b3": {
          "model_module": "@jupyter-widgets/controls",
          "model_name": "HBoxModel",
          "model_module_version": "1.5.0",
          "state": {
            "_dom_classes": [],
            "_model_module": "@jupyter-widgets/controls",
            "_model_module_version": "1.5.0",
            "_model_name": "HBoxModel",
            "_view_count": null,
            "_view_module": "@jupyter-widgets/controls",
            "_view_module_version": "1.5.0",
            "_view_name": "HBoxView",
            "box_style": "",
            "children": [
              "IPY_MODEL_abcffe218a604e4eb7f5594bfed7cb70",
              "IPY_MODEL_18971b3800b84d0ebf27a884c89c57da",
              "IPY_MODEL_42611a90fe8d4096be1e5f2e6a403560"
            ],
            "layout": "IPY_MODEL_473ed5ca5eba4f5d9b1ffe4119407d9b"
          }
        },
        "abcffe218a604e4eb7f5594bfed7cb70": {
          "model_module": "@jupyter-widgets/controls",
          "model_name": "HTMLModel",
          "model_module_version": "1.5.0",
          "state": {
            "_dom_classes": [],
            "_model_module": "@jupyter-widgets/controls",
            "_model_module_version": "1.5.0",
            "_model_name": "HTMLModel",
            "_view_count": null,
            "_view_module": "@jupyter-widgets/controls",
            "_view_module_version": "1.5.0",
            "_view_name": "HTMLView",
            "description": "",
            "description_tooltip": null,
            "layout": "IPY_MODEL_5a41862570714660a0e2992d5ae3ef97",
            "placeholder": "​",
            "style": "IPY_MODEL_25265671333249d9be483c37f5e4294c",
            "value": "Downloading (…)lve/main/config.json: 100%"
          }
        },
        "18971b3800b84d0ebf27a884c89c57da": {
          "model_module": "@jupyter-widgets/controls",
          "model_name": "FloatProgressModel",
          "model_module_version": "1.5.0",
          "state": {
            "_dom_classes": [],
            "_model_module": "@jupyter-widgets/controls",
            "_model_module_version": "1.5.0",
            "_model_name": "FloatProgressModel",
            "_view_count": null,
            "_view_module": "@jupyter-widgets/controls",
            "_view_module_version": "1.5.0",
            "_view_name": "ProgressView",
            "bar_style": "success",
            "description": "",
            "description_tooltip": null,
            "layout": "IPY_MODEL_cb80437d2ffb403a9720ca94924cc0cd",
            "max": 629,
            "min": 0,
            "orientation": "horizontal",
            "style": "IPY_MODEL_a448f34fb56b44ebb7a1d9c88bc027ad",
            "value": 629
          }
        },
        "42611a90fe8d4096be1e5f2e6a403560": {
          "model_module": "@jupyter-widgets/controls",
          "model_name": "HTMLModel",
          "model_module_version": "1.5.0",
          "state": {
            "_dom_classes": [],
            "_model_module": "@jupyter-widgets/controls",
            "_model_module_version": "1.5.0",
            "_model_name": "HTMLModel",
            "_view_count": null,
            "_view_module": "@jupyter-widgets/controls",
            "_view_module_version": "1.5.0",
            "_view_name": "HTMLView",
            "description": "",
            "description_tooltip": null,
            "layout": "IPY_MODEL_dc93b9076978427cb34b85f3f783bd0d",
            "placeholder": "​",
            "style": "IPY_MODEL_08daa7ebf5a24c54805bbec33dc20e7a",
            "value": " 629/629 [00:00&lt;00:00, 24.5kB/s]"
          }
        },
        "473ed5ca5eba4f5d9b1ffe4119407d9b": {
          "model_module": "@jupyter-widgets/base",
          "model_name": "LayoutModel",
          "model_module_version": "1.2.0",
          "state": {
            "_model_module": "@jupyter-widgets/base",
            "_model_module_version": "1.2.0",
            "_model_name": "LayoutModel",
            "_view_count": null,
            "_view_module": "@jupyter-widgets/base",
            "_view_module_version": "1.2.0",
            "_view_name": "LayoutView",
            "align_content": null,
            "align_items": null,
            "align_self": null,
            "border": null,
            "bottom": null,
            "display": null,
            "flex": null,
            "flex_flow": null,
            "grid_area": null,
            "grid_auto_columns": null,
            "grid_auto_flow": null,
            "grid_auto_rows": null,
            "grid_column": null,
            "grid_gap": null,
            "grid_row": null,
            "grid_template_areas": null,
            "grid_template_columns": null,
            "grid_template_rows": null,
            "height": null,
            "justify_content": null,
            "justify_items": null,
            "left": null,
            "margin": null,
            "max_height": null,
            "max_width": null,
            "min_height": null,
            "min_width": null,
            "object_fit": null,
            "object_position": null,
            "order": null,
            "overflow": null,
            "overflow_x": null,
            "overflow_y": null,
            "padding": null,
            "right": null,
            "top": null,
            "visibility": null,
            "width": null
          }
        },
        "5a41862570714660a0e2992d5ae3ef97": {
          "model_module": "@jupyter-widgets/base",
          "model_name": "LayoutModel",
          "model_module_version": "1.2.0",
          "state": {
            "_model_module": "@jupyter-widgets/base",
            "_model_module_version": "1.2.0",
            "_model_name": "LayoutModel",
            "_view_count": null,
            "_view_module": "@jupyter-widgets/base",
            "_view_module_version": "1.2.0",
            "_view_name": "LayoutView",
            "align_content": null,
            "align_items": null,
            "align_self": null,
            "border": null,
            "bottom": null,
            "display": null,
            "flex": null,
            "flex_flow": null,
            "grid_area": null,
            "grid_auto_columns": null,
            "grid_auto_flow": null,
            "grid_auto_rows": null,
            "grid_column": null,
            "grid_gap": null,
            "grid_row": null,
            "grid_template_areas": null,
            "grid_template_columns": null,
            "grid_template_rows": null,
            "height": null,
            "justify_content": null,
            "justify_items": null,
            "left": null,
            "margin": null,
            "max_height": null,
            "max_width": null,
            "min_height": null,
            "min_width": null,
            "object_fit": null,
            "object_position": null,
            "order": null,
            "overflow": null,
            "overflow_x": null,
            "overflow_y": null,
            "padding": null,
            "right": null,
            "top": null,
            "visibility": null,
            "width": null
          }
        },
        "25265671333249d9be483c37f5e4294c": {
          "model_module": "@jupyter-widgets/controls",
          "model_name": "DescriptionStyleModel",
          "model_module_version": "1.5.0",
          "state": {
            "_model_module": "@jupyter-widgets/controls",
            "_model_module_version": "1.5.0",
            "_model_name": "DescriptionStyleModel",
            "_view_count": null,
            "_view_module": "@jupyter-widgets/base",
            "_view_module_version": "1.2.0",
            "_view_name": "StyleView",
            "description_width": ""
          }
        },
        "cb80437d2ffb403a9720ca94924cc0cd": {
          "model_module": "@jupyter-widgets/base",
          "model_name": "LayoutModel",
          "model_module_version": "1.2.0",
          "state": {
            "_model_module": "@jupyter-widgets/base",
            "_model_module_version": "1.2.0",
            "_model_name": "LayoutModel",
            "_view_count": null,
            "_view_module": "@jupyter-widgets/base",
            "_view_module_version": "1.2.0",
            "_view_name": "LayoutView",
            "align_content": null,
            "align_items": null,
            "align_self": null,
            "border": null,
            "bottom": null,
            "display": null,
            "flex": null,
            "flex_flow": null,
            "grid_area": null,
            "grid_auto_columns": null,
            "grid_auto_flow": null,
            "grid_auto_rows": null,
            "grid_column": null,
            "grid_gap": null,
            "grid_row": null,
            "grid_template_areas": null,
            "grid_template_columns": null,
            "grid_template_rows": null,
            "height": null,
            "justify_content": null,
            "justify_items": null,
            "left": null,
            "margin": null,
            "max_height": null,
            "max_width": null,
            "min_height": null,
            "min_width": null,
            "object_fit": null,
            "object_position": null,
            "order": null,
            "overflow": null,
            "overflow_x": null,
            "overflow_y": null,
            "padding": null,
            "right": null,
            "top": null,
            "visibility": null,
            "width": null
          }
        },
        "a448f34fb56b44ebb7a1d9c88bc027ad": {
          "model_module": "@jupyter-widgets/controls",
          "model_name": "ProgressStyleModel",
          "model_module_version": "1.5.0",
          "state": {
            "_model_module": "@jupyter-widgets/controls",
            "_model_module_version": "1.5.0",
            "_model_name": "ProgressStyleModel",
            "_view_count": null,
            "_view_module": "@jupyter-widgets/base",
            "_view_module_version": "1.2.0",
            "_view_name": "StyleView",
            "bar_color": null,
            "description_width": ""
          }
        },
        "dc93b9076978427cb34b85f3f783bd0d": {
          "model_module": "@jupyter-widgets/base",
          "model_name": "LayoutModel",
          "model_module_version": "1.2.0",
          "state": {
            "_model_module": "@jupyter-widgets/base",
            "_model_module_version": "1.2.0",
            "_model_name": "LayoutModel",
            "_view_count": null,
            "_view_module": "@jupyter-widgets/base",
            "_view_module_version": "1.2.0",
            "_view_name": "LayoutView",
            "align_content": null,
            "align_items": null,
            "align_self": null,
            "border": null,
            "bottom": null,
            "display": null,
            "flex": null,
            "flex_flow": null,
            "grid_area": null,
            "grid_auto_columns": null,
            "grid_auto_flow": null,
            "grid_auto_rows": null,
            "grid_column": null,
            "grid_gap": null,
            "grid_row": null,
            "grid_template_areas": null,
            "grid_template_columns": null,
            "grid_template_rows": null,
            "height": null,
            "justify_content": null,
            "justify_items": null,
            "left": null,
            "margin": null,
            "max_height": null,
            "max_width": null,
            "min_height": null,
            "min_width": null,
            "object_fit": null,
            "object_position": null,
            "order": null,
            "overflow": null,
            "overflow_x": null,
            "overflow_y": null,
            "padding": null,
            "right": null,
            "top": null,
            "visibility": null,
            "width": null
          }
        },
        "08daa7ebf5a24c54805bbec33dc20e7a": {
          "model_module": "@jupyter-widgets/controls",
          "model_name": "DescriptionStyleModel",
          "model_module_version": "1.5.0",
          "state": {
            "_model_module": "@jupyter-widgets/controls",
            "_model_module_version": "1.5.0",
            "_model_name": "DescriptionStyleModel",
            "_view_count": null,
            "_view_module": "@jupyter-widgets/base",
            "_view_module_version": "1.2.0",
            "_view_name": "StyleView",
            "description_width": ""
          }
        },
        "fd50469a9bcd45d19cd8ffcf3d319ceb": {
          "model_module": "@jupyter-widgets/controls",
          "model_name": "HBoxModel",
          "model_module_version": "1.5.0",
          "state": {
            "_dom_classes": [],
            "_model_module": "@jupyter-widgets/controls",
            "_model_module_version": "1.5.0",
            "_model_name": "HBoxModel",
            "_view_count": null,
            "_view_module": "@jupyter-widgets/controls",
            "_view_module_version": "1.5.0",
            "_view_name": "HBoxView",
            "box_style": "",
            "children": [
              "IPY_MODEL_aa841a038f1e474096f12aa193408e3a",
              "IPY_MODEL_416bab5f32af4ad68eefb6ffc9dba322",
              "IPY_MODEL_13d810cac3b046d29f4351aa94add107"
            ],
            "layout": "IPY_MODEL_0cfb075f5fc349c7b38ccd2d584e6f1a"
          }
        },
        "aa841a038f1e474096f12aa193408e3a": {
          "model_module": "@jupyter-widgets/controls",
          "model_name": "HTMLModel",
          "model_module_version": "1.5.0",
          "state": {
            "_dom_classes": [],
            "_model_module": "@jupyter-widgets/controls",
            "_model_module_version": "1.5.0",
            "_model_name": "HTMLModel",
            "_view_count": null,
            "_view_module": "@jupyter-widgets/controls",
            "_view_module_version": "1.5.0",
            "_view_name": "HTMLView",
            "description": "",
            "description_tooltip": null,
            "layout": "IPY_MODEL_a1957948815b4eb7997155276fcf3fbb",
            "placeholder": "​",
            "style": "IPY_MODEL_176511c2c55e496dbe1ac90623ab2659",
            "value": "Downloading model.safetensors: 100%"
          }
        },
        "416bab5f32af4ad68eefb6ffc9dba322": {
          "model_module": "@jupyter-widgets/controls",
          "model_name": "FloatProgressModel",
          "model_module_version": "1.5.0",
          "state": {
            "_dom_classes": [],
            "_model_module": "@jupyter-widgets/controls",
            "_model_module_version": "1.5.0",
            "_model_name": "FloatProgressModel",
            "_view_count": null,
            "_view_module": "@jupyter-widgets/controls",
            "_view_module_version": "1.5.0",
            "_view_name": "ProgressView",
            "bar_style": "success",
            "description": "",
            "description_tooltip": null,
            "layout": "IPY_MODEL_94ee0e737e2c47fdba062740d0c12cd1",
            "max": 267832558,
            "min": 0,
            "orientation": "horizontal",
            "style": "IPY_MODEL_54fb74704f9b4a9db2d238b5f25ec92e",
            "value": 267832558
          }
        },
        "13d810cac3b046d29f4351aa94add107": {
          "model_module": "@jupyter-widgets/controls",
          "model_name": "HTMLModel",
          "model_module_version": "1.5.0",
          "state": {
            "_dom_classes": [],
            "_model_module": "@jupyter-widgets/controls",
            "_model_module_version": "1.5.0",
            "_model_name": "HTMLModel",
            "_view_count": null,
            "_view_module": "@jupyter-widgets/controls",
            "_view_module_version": "1.5.0",
            "_view_name": "HTMLView",
            "description": "",
            "description_tooltip": null,
            "layout": "IPY_MODEL_2b29030ff383492097e190adbbe60909",
            "placeholder": "​",
            "style": "IPY_MODEL_91c37649cdad46ffb82a975b4ebe8291",
            "value": " 268M/268M [00:03&lt;00:00, 78.3MB/s]"
          }
        },
        "0cfb075f5fc349c7b38ccd2d584e6f1a": {
          "model_module": "@jupyter-widgets/base",
          "model_name": "LayoutModel",
          "model_module_version": "1.2.0",
          "state": {
            "_model_module": "@jupyter-widgets/base",
            "_model_module_version": "1.2.0",
            "_model_name": "LayoutModel",
            "_view_count": null,
            "_view_module": "@jupyter-widgets/base",
            "_view_module_version": "1.2.0",
            "_view_name": "LayoutView",
            "align_content": null,
            "align_items": null,
            "align_self": null,
            "border": null,
            "bottom": null,
            "display": null,
            "flex": null,
            "flex_flow": null,
            "grid_area": null,
            "grid_auto_columns": null,
            "grid_auto_flow": null,
            "grid_auto_rows": null,
            "grid_column": null,
            "grid_gap": null,
            "grid_row": null,
            "grid_template_areas": null,
            "grid_template_columns": null,
            "grid_template_rows": null,
            "height": null,
            "justify_content": null,
            "justify_items": null,
            "left": null,
            "margin": null,
            "max_height": null,
            "max_width": null,
            "min_height": null,
            "min_width": null,
            "object_fit": null,
            "object_position": null,
            "order": null,
            "overflow": null,
            "overflow_x": null,
            "overflow_y": null,
            "padding": null,
            "right": null,
            "top": null,
            "visibility": null,
            "width": null
          }
        },
        "a1957948815b4eb7997155276fcf3fbb": {
          "model_module": "@jupyter-widgets/base",
          "model_name": "LayoutModel",
          "model_module_version": "1.2.0",
          "state": {
            "_model_module": "@jupyter-widgets/base",
            "_model_module_version": "1.2.0",
            "_model_name": "LayoutModel",
            "_view_count": null,
            "_view_module": "@jupyter-widgets/base",
            "_view_module_version": "1.2.0",
            "_view_name": "LayoutView",
            "align_content": null,
            "align_items": null,
            "align_self": null,
            "border": null,
            "bottom": null,
            "display": null,
            "flex": null,
            "flex_flow": null,
            "grid_area": null,
            "grid_auto_columns": null,
            "grid_auto_flow": null,
            "grid_auto_rows": null,
            "grid_column": null,
            "grid_gap": null,
            "grid_row": null,
            "grid_template_areas": null,
            "grid_template_columns": null,
            "grid_template_rows": null,
            "height": null,
            "justify_content": null,
            "justify_items": null,
            "left": null,
            "margin": null,
            "max_height": null,
            "max_width": null,
            "min_height": null,
            "min_width": null,
            "object_fit": null,
            "object_position": null,
            "order": null,
            "overflow": null,
            "overflow_x": null,
            "overflow_y": null,
            "padding": null,
            "right": null,
            "top": null,
            "visibility": null,
            "width": null
          }
        },
        "176511c2c55e496dbe1ac90623ab2659": {
          "model_module": "@jupyter-widgets/controls",
          "model_name": "DescriptionStyleModel",
          "model_module_version": "1.5.0",
          "state": {
            "_model_module": "@jupyter-widgets/controls",
            "_model_module_version": "1.5.0",
            "_model_name": "DescriptionStyleModel",
            "_view_count": null,
            "_view_module": "@jupyter-widgets/base",
            "_view_module_version": "1.2.0",
            "_view_name": "StyleView",
            "description_width": ""
          }
        },
        "94ee0e737e2c47fdba062740d0c12cd1": {
          "model_module": "@jupyter-widgets/base",
          "model_name": "LayoutModel",
          "model_module_version": "1.2.0",
          "state": {
            "_model_module": "@jupyter-widgets/base",
            "_model_module_version": "1.2.0",
            "_model_name": "LayoutModel",
            "_view_count": null,
            "_view_module": "@jupyter-widgets/base",
            "_view_module_version": "1.2.0",
            "_view_name": "LayoutView",
            "align_content": null,
            "align_items": null,
            "align_self": null,
            "border": null,
            "bottom": null,
            "display": null,
            "flex": null,
            "flex_flow": null,
            "grid_area": null,
            "grid_auto_columns": null,
            "grid_auto_flow": null,
            "grid_auto_rows": null,
            "grid_column": null,
            "grid_gap": null,
            "grid_row": null,
            "grid_template_areas": null,
            "grid_template_columns": null,
            "grid_template_rows": null,
            "height": null,
            "justify_content": null,
            "justify_items": null,
            "left": null,
            "margin": null,
            "max_height": null,
            "max_width": null,
            "min_height": null,
            "min_width": null,
            "object_fit": null,
            "object_position": null,
            "order": null,
            "overflow": null,
            "overflow_x": null,
            "overflow_y": null,
            "padding": null,
            "right": null,
            "top": null,
            "visibility": null,
            "width": null
          }
        },
        "54fb74704f9b4a9db2d238b5f25ec92e": {
          "model_module": "@jupyter-widgets/controls",
          "model_name": "ProgressStyleModel",
          "model_module_version": "1.5.0",
          "state": {
            "_model_module": "@jupyter-widgets/controls",
            "_model_module_version": "1.5.0",
            "_model_name": "ProgressStyleModel",
            "_view_count": null,
            "_view_module": "@jupyter-widgets/base",
            "_view_module_version": "1.2.0",
            "_view_name": "StyleView",
            "bar_color": null,
            "description_width": ""
          }
        },
        "2b29030ff383492097e190adbbe60909": {
          "model_module": "@jupyter-widgets/base",
          "model_name": "LayoutModel",
          "model_module_version": "1.2.0",
          "state": {
            "_model_module": "@jupyter-widgets/base",
            "_model_module_version": "1.2.0",
            "_model_name": "LayoutModel",
            "_view_count": null,
            "_view_module": "@jupyter-widgets/base",
            "_view_module_version": "1.2.0",
            "_view_name": "LayoutView",
            "align_content": null,
            "align_items": null,
            "align_self": null,
            "border": null,
            "bottom": null,
            "display": null,
            "flex": null,
            "flex_flow": null,
            "grid_area": null,
            "grid_auto_columns": null,
            "grid_auto_flow": null,
            "grid_auto_rows": null,
            "grid_column": null,
            "grid_gap": null,
            "grid_row": null,
            "grid_template_areas": null,
            "grid_template_columns": null,
            "grid_template_rows": null,
            "height": null,
            "justify_content": null,
            "justify_items": null,
            "left": null,
            "margin": null,
            "max_height": null,
            "max_width": null,
            "min_height": null,
            "min_width": null,
            "object_fit": null,
            "object_position": null,
            "order": null,
            "overflow": null,
            "overflow_x": null,
            "overflow_y": null,
            "padding": null,
            "right": null,
            "top": null,
            "visibility": null,
            "width": null
          }
        },
        "91c37649cdad46ffb82a975b4ebe8291": {
          "model_module": "@jupyter-widgets/controls",
          "model_name": "DescriptionStyleModel",
          "model_module_version": "1.5.0",
          "state": {
            "_model_module": "@jupyter-widgets/controls",
            "_model_module_version": "1.5.0",
            "_model_name": "DescriptionStyleModel",
            "_view_count": null,
            "_view_module": "@jupyter-widgets/base",
            "_view_module_version": "1.2.0",
            "_view_name": "StyleView",
            "description_width": ""
          }
        },
        "d5fd0f9d933c4170affe616422c3d611": {
          "model_module": "@jupyter-widgets/controls",
          "model_name": "HBoxModel",
          "model_module_version": "1.5.0",
          "state": {
            "_dom_classes": [],
            "_model_module": "@jupyter-widgets/controls",
            "_model_module_version": "1.5.0",
            "_model_name": "HBoxModel",
            "_view_count": null,
            "_view_module": "@jupyter-widgets/controls",
            "_view_module_version": "1.5.0",
            "_view_name": "HBoxView",
            "box_style": "",
            "children": [
              "IPY_MODEL_61bfdc013388494e8c2742892599375b",
              "IPY_MODEL_bfc86f85f4594c8f92a4af47813a9d49",
              "IPY_MODEL_0cf7d8518832428ab80877ff5de7a19a"
            ],
            "layout": "IPY_MODEL_2c11aebbec244eb591cfa487c88ac02b"
          }
        },
        "61bfdc013388494e8c2742892599375b": {
          "model_module": "@jupyter-widgets/controls",
          "model_name": "HTMLModel",
          "model_module_version": "1.5.0",
          "state": {
            "_dom_classes": [],
            "_model_module": "@jupyter-widgets/controls",
            "_model_module_version": "1.5.0",
            "_model_name": "HTMLModel",
            "_view_count": null,
            "_view_module": "@jupyter-widgets/controls",
            "_view_module_version": "1.5.0",
            "_view_name": "HTMLView",
            "description": "",
            "description_tooltip": null,
            "layout": "IPY_MODEL_3cc52e69cb99479386f9af6909fd3c2d",
            "placeholder": "​",
            "style": "IPY_MODEL_6521adb3ce4547adafc8be06d855361c",
            "value": "Downloading (…)okenizer_config.json: 100%"
          }
        },
        "bfc86f85f4594c8f92a4af47813a9d49": {
          "model_module": "@jupyter-widgets/controls",
          "model_name": "FloatProgressModel",
          "model_module_version": "1.5.0",
          "state": {
            "_dom_classes": [],
            "_model_module": "@jupyter-widgets/controls",
            "_model_module_version": "1.5.0",
            "_model_name": "FloatProgressModel",
            "_view_count": null,
            "_view_module": "@jupyter-widgets/controls",
            "_view_module_version": "1.5.0",
            "_view_name": "ProgressView",
            "bar_style": "success",
            "description": "",
            "description_tooltip": null,
            "layout": "IPY_MODEL_367725bbc389402baede4bc9c2818fb1",
            "max": 48,
            "min": 0,
            "orientation": "horizontal",
            "style": "IPY_MODEL_c3940b5a01a24300abae2033da12e080",
            "value": 48
          }
        },
        "0cf7d8518832428ab80877ff5de7a19a": {
          "model_module": "@jupyter-widgets/controls",
          "model_name": "HTMLModel",
          "model_module_version": "1.5.0",
          "state": {
            "_dom_classes": [],
            "_model_module": "@jupyter-widgets/controls",
            "_model_module_version": "1.5.0",
            "_model_name": "HTMLModel",
            "_view_count": null,
            "_view_module": "@jupyter-widgets/controls",
            "_view_module_version": "1.5.0",
            "_view_name": "HTMLView",
            "description": "",
            "description_tooltip": null,
            "layout": "IPY_MODEL_cfa4a59bc3c1495d9dc3bc95810e8a36",
            "placeholder": "​",
            "style": "IPY_MODEL_31a849447b124e80b46a476247b0fc4b",
            "value": " 48.0/48.0 [00:00&lt;00:00, 1.92kB/s]"
          }
        },
        "2c11aebbec244eb591cfa487c88ac02b": {
          "model_module": "@jupyter-widgets/base",
          "model_name": "LayoutModel",
          "model_module_version": "1.2.0",
          "state": {
            "_model_module": "@jupyter-widgets/base",
            "_model_module_version": "1.2.0",
            "_model_name": "LayoutModel",
            "_view_count": null,
            "_view_module": "@jupyter-widgets/base",
            "_view_module_version": "1.2.0",
            "_view_name": "LayoutView",
            "align_content": null,
            "align_items": null,
            "align_self": null,
            "border": null,
            "bottom": null,
            "display": null,
            "flex": null,
            "flex_flow": null,
            "grid_area": null,
            "grid_auto_columns": null,
            "grid_auto_flow": null,
            "grid_auto_rows": null,
            "grid_column": null,
            "grid_gap": null,
            "grid_row": null,
            "grid_template_areas": null,
            "grid_template_columns": null,
            "grid_template_rows": null,
            "height": null,
            "justify_content": null,
            "justify_items": null,
            "left": null,
            "margin": null,
            "max_height": null,
            "max_width": null,
            "min_height": null,
            "min_width": null,
            "object_fit": null,
            "object_position": null,
            "order": null,
            "overflow": null,
            "overflow_x": null,
            "overflow_y": null,
            "padding": null,
            "right": null,
            "top": null,
            "visibility": null,
            "width": null
          }
        },
        "3cc52e69cb99479386f9af6909fd3c2d": {
          "model_module": "@jupyter-widgets/base",
          "model_name": "LayoutModel",
          "model_module_version": "1.2.0",
          "state": {
            "_model_module": "@jupyter-widgets/base",
            "_model_module_version": "1.2.0",
            "_model_name": "LayoutModel",
            "_view_count": null,
            "_view_module": "@jupyter-widgets/base",
            "_view_module_version": "1.2.0",
            "_view_name": "LayoutView",
            "align_content": null,
            "align_items": null,
            "align_self": null,
            "border": null,
            "bottom": null,
            "display": null,
            "flex": null,
            "flex_flow": null,
            "grid_area": null,
            "grid_auto_columns": null,
            "grid_auto_flow": null,
            "grid_auto_rows": null,
            "grid_column": null,
            "grid_gap": null,
            "grid_row": null,
            "grid_template_areas": null,
            "grid_template_columns": null,
            "grid_template_rows": null,
            "height": null,
            "justify_content": null,
            "justify_items": null,
            "left": null,
            "margin": null,
            "max_height": null,
            "max_width": null,
            "min_height": null,
            "min_width": null,
            "object_fit": null,
            "object_position": null,
            "order": null,
            "overflow": null,
            "overflow_x": null,
            "overflow_y": null,
            "padding": null,
            "right": null,
            "top": null,
            "visibility": null,
            "width": null
          }
        },
        "6521adb3ce4547adafc8be06d855361c": {
          "model_module": "@jupyter-widgets/controls",
          "model_name": "DescriptionStyleModel",
          "model_module_version": "1.5.0",
          "state": {
            "_model_module": "@jupyter-widgets/controls",
            "_model_module_version": "1.5.0",
            "_model_name": "DescriptionStyleModel",
            "_view_count": null,
            "_view_module": "@jupyter-widgets/base",
            "_view_module_version": "1.2.0",
            "_view_name": "StyleView",
            "description_width": ""
          }
        },
        "367725bbc389402baede4bc9c2818fb1": {
          "model_module": "@jupyter-widgets/base",
          "model_name": "LayoutModel",
          "model_module_version": "1.2.0",
          "state": {
            "_model_module": "@jupyter-widgets/base",
            "_model_module_version": "1.2.0",
            "_model_name": "LayoutModel",
            "_view_count": null,
            "_view_module": "@jupyter-widgets/base",
            "_view_module_version": "1.2.0",
            "_view_name": "LayoutView",
            "align_content": null,
            "align_items": null,
            "align_self": null,
            "border": null,
            "bottom": null,
            "display": null,
            "flex": null,
            "flex_flow": null,
            "grid_area": null,
            "grid_auto_columns": null,
            "grid_auto_flow": null,
            "grid_auto_rows": null,
            "grid_column": null,
            "grid_gap": null,
            "grid_row": null,
            "grid_template_areas": null,
            "grid_template_columns": null,
            "grid_template_rows": null,
            "height": null,
            "justify_content": null,
            "justify_items": null,
            "left": null,
            "margin": null,
            "max_height": null,
            "max_width": null,
            "min_height": null,
            "min_width": null,
            "object_fit": null,
            "object_position": null,
            "order": null,
            "overflow": null,
            "overflow_x": null,
            "overflow_y": null,
            "padding": null,
            "right": null,
            "top": null,
            "visibility": null,
            "width": null
          }
        },
        "c3940b5a01a24300abae2033da12e080": {
          "model_module": "@jupyter-widgets/controls",
          "model_name": "ProgressStyleModel",
          "model_module_version": "1.5.0",
          "state": {
            "_model_module": "@jupyter-widgets/controls",
            "_model_module_version": "1.5.0",
            "_model_name": "ProgressStyleModel",
            "_view_count": null,
            "_view_module": "@jupyter-widgets/base",
            "_view_module_version": "1.2.0",
            "_view_name": "StyleView",
            "bar_color": null,
            "description_width": ""
          }
        },
        "cfa4a59bc3c1495d9dc3bc95810e8a36": {
          "model_module": "@jupyter-widgets/base",
          "model_name": "LayoutModel",
          "model_module_version": "1.2.0",
          "state": {
            "_model_module": "@jupyter-widgets/base",
            "_model_module_version": "1.2.0",
            "_model_name": "LayoutModel",
            "_view_count": null,
            "_view_module": "@jupyter-widgets/base",
            "_view_module_version": "1.2.0",
            "_view_name": "LayoutView",
            "align_content": null,
            "align_items": null,
            "align_self": null,
            "border": null,
            "bottom": null,
            "display": null,
            "flex": null,
            "flex_flow": null,
            "grid_area": null,
            "grid_auto_columns": null,
            "grid_auto_flow": null,
            "grid_auto_rows": null,
            "grid_column": null,
            "grid_gap": null,
            "grid_row": null,
            "grid_template_areas": null,
            "grid_template_columns": null,
            "grid_template_rows": null,
            "height": null,
            "justify_content": null,
            "justify_items": null,
            "left": null,
            "margin": null,
            "max_height": null,
            "max_width": null,
            "min_height": null,
            "min_width": null,
            "object_fit": null,
            "object_position": null,
            "order": null,
            "overflow": null,
            "overflow_x": null,
            "overflow_y": null,
            "padding": null,
            "right": null,
            "top": null,
            "visibility": null,
            "width": null
          }
        },
        "31a849447b124e80b46a476247b0fc4b": {
          "model_module": "@jupyter-widgets/controls",
          "model_name": "DescriptionStyleModel",
          "model_module_version": "1.5.0",
          "state": {
            "_model_module": "@jupyter-widgets/controls",
            "_model_module_version": "1.5.0",
            "_model_name": "DescriptionStyleModel",
            "_view_count": null,
            "_view_module": "@jupyter-widgets/base",
            "_view_module_version": "1.2.0",
            "_view_name": "StyleView",
            "description_width": ""
          }
        },
        "f2afefeed0764fc39d22cbee2370ac11": {
          "model_module": "@jupyter-widgets/controls",
          "model_name": "HBoxModel",
          "model_module_version": "1.5.0",
          "state": {
            "_dom_classes": [],
            "_model_module": "@jupyter-widgets/controls",
            "_model_module_version": "1.5.0",
            "_model_name": "HBoxModel",
            "_view_count": null,
            "_view_module": "@jupyter-widgets/controls",
            "_view_module_version": "1.5.0",
            "_view_name": "HBoxView",
            "box_style": "",
            "children": [
              "IPY_MODEL_5d4d37117ff044bea17cc2a07e7c7f2f",
              "IPY_MODEL_1da3e8d774d34e03b085bfbd0b3e30b5",
              "IPY_MODEL_734c3e79fb9e4d388f64dc5249a9cc7e"
            ],
            "layout": "IPY_MODEL_c0b3ab4fd48243c1813824e733dd4da3"
          }
        },
        "5d4d37117ff044bea17cc2a07e7c7f2f": {
          "model_module": "@jupyter-widgets/controls",
          "model_name": "HTMLModel",
          "model_module_version": "1.5.0",
          "state": {
            "_dom_classes": [],
            "_model_module": "@jupyter-widgets/controls",
            "_model_module_version": "1.5.0",
            "_model_name": "HTMLModel",
            "_view_count": null,
            "_view_module": "@jupyter-widgets/controls",
            "_view_module_version": "1.5.0",
            "_view_name": "HTMLView",
            "description": "",
            "description_tooltip": null,
            "layout": "IPY_MODEL_67641b1ef278423b8d2a70787e034ffa",
            "placeholder": "​",
            "style": "IPY_MODEL_b7f3bd544f55454e840094f95e585676",
            "value": "Downloading (…)solve/main/vocab.txt: 100%"
          }
        },
        "1da3e8d774d34e03b085bfbd0b3e30b5": {
          "model_module": "@jupyter-widgets/controls",
          "model_name": "FloatProgressModel",
          "model_module_version": "1.5.0",
          "state": {
            "_dom_classes": [],
            "_model_module": "@jupyter-widgets/controls",
            "_model_module_version": "1.5.0",
            "_model_name": "FloatProgressModel",
            "_view_count": null,
            "_view_module": "@jupyter-widgets/controls",
            "_view_module_version": "1.5.0",
            "_view_name": "ProgressView",
            "bar_style": "success",
            "description": "",
            "description_tooltip": null,
            "layout": "IPY_MODEL_7f343c6701014530a9d7b44330b33f3b",
            "max": 231508,
            "min": 0,
            "orientation": "horizontal",
            "style": "IPY_MODEL_d59c5426d1434ea09729b35482a399b7",
            "value": 231508
          }
        },
        "734c3e79fb9e4d388f64dc5249a9cc7e": {
          "model_module": "@jupyter-widgets/controls",
          "model_name": "HTMLModel",
          "model_module_version": "1.5.0",
          "state": {
            "_dom_classes": [],
            "_model_module": "@jupyter-widgets/controls",
            "_model_module_version": "1.5.0",
            "_model_name": "HTMLModel",
            "_view_count": null,
            "_view_module": "@jupyter-widgets/controls",
            "_view_module_version": "1.5.0",
            "_view_name": "HTMLView",
            "description": "",
            "description_tooltip": null,
            "layout": "IPY_MODEL_e91c1408475648319822d416cccc8497",
            "placeholder": "​",
            "style": "IPY_MODEL_0c4120f88ac24f1f80370f5afa4ec9b1",
            "value": " 232k/232k [00:00&lt;00:00, 4.20MB/s]"
          }
        },
        "c0b3ab4fd48243c1813824e733dd4da3": {
          "model_module": "@jupyter-widgets/base",
          "model_name": "LayoutModel",
          "model_module_version": "1.2.0",
          "state": {
            "_model_module": "@jupyter-widgets/base",
            "_model_module_version": "1.2.0",
            "_model_name": "LayoutModel",
            "_view_count": null,
            "_view_module": "@jupyter-widgets/base",
            "_view_module_version": "1.2.0",
            "_view_name": "LayoutView",
            "align_content": null,
            "align_items": null,
            "align_self": null,
            "border": null,
            "bottom": null,
            "display": null,
            "flex": null,
            "flex_flow": null,
            "grid_area": null,
            "grid_auto_columns": null,
            "grid_auto_flow": null,
            "grid_auto_rows": null,
            "grid_column": null,
            "grid_gap": null,
            "grid_row": null,
            "grid_template_areas": null,
            "grid_template_columns": null,
            "grid_template_rows": null,
            "height": null,
            "justify_content": null,
            "justify_items": null,
            "left": null,
            "margin": null,
            "max_height": null,
            "max_width": null,
            "min_height": null,
            "min_width": null,
            "object_fit": null,
            "object_position": null,
            "order": null,
            "overflow": null,
            "overflow_x": null,
            "overflow_y": null,
            "padding": null,
            "right": null,
            "top": null,
            "visibility": null,
            "width": null
          }
        },
        "67641b1ef278423b8d2a70787e034ffa": {
          "model_module": "@jupyter-widgets/base",
          "model_name": "LayoutModel",
          "model_module_version": "1.2.0",
          "state": {
            "_model_module": "@jupyter-widgets/base",
            "_model_module_version": "1.2.0",
            "_model_name": "LayoutModel",
            "_view_count": null,
            "_view_module": "@jupyter-widgets/base",
            "_view_module_version": "1.2.0",
            "_view_name": "LayoutView",
            "align_content": null,
            "align_items": null,
            "align_self": null,
            "border": null,
            "bottom": null,
            "display": null,
            "flex": null,
            "flex_flow": null,
            "grid_area": null,
            "grid_auto_columns": null,
            "grid_auto_flow": null,
            "grid_auto_rows": null,
            "grid_column": null,
            "grid_gap": null,
            "grid_row": null,
            "grid_template_areas": null,
            "grid_template_columns": null,
            "grid_template_rows": null,
            "height": null,
            "justify_content": null,
            "justify_items": null,
            "left": null,
            "margin": null,
            "max_height": null,
            "max_width": null,
            "min_height": null,
            "min_width": null,
            "object_fit": null,
            "object_position": null,
            "order": null,
            "overflow": null,
            "overflow_x": null,
            "overflow_y": null,
            "padding": null,
            "right": null,
            "top": null,
            "visibility": null,
            "width": null
          }
        },
        "b7f3bd544f55454e840094f95e585676": {
          "model_module": "@jupyter-widgets/controls",
          "model_name": "DescriptionStyleModel",
          "model_module_version": "1.5.0",
          "state": {
            "_model_module": "@jupyter-widgets/controls",
            "_model_module_version": "1.5.0",
            "_model_name": "DescriptionStyleModel",
            "_view_count": null,
            "_view_module": "@jupyter-widgets/base",
            "_view_module_version": "1.2.0",
            "_view_name": "StyleView",
            "description_width": ""
          }
        },
        "7f343c6701014530a9d7b44330b33f3b": {
          "model_module": "@jupyter-widgets/base",
          "model_name": "LayoutModel",
          "model_module_version": "1.2.0",
          "state": {
            "_model_module": "@jupyter-widgets/base",
            "_model_module_version": "1.2.0",
            "_model_name": "LayoutModel",
            "_view_count": null,
            "_view_module": "@jupyter-widgets/base",
            "_view_module_version": "1.2.0",
            "_view_name": "LayoutView",
            "align_content": null,
            "align_items": null,
            "align_self": null,
            "border": null,
            "bottom": null,
            "display": null,
            "flex": null,
            "flex_flow": null,
            "grid_area": null,
            "grid_auto_columns": null,
            "grid_auto_flow": null,
            "grid_auto_rows": null,
            "grid_column": null,
            "grid_gap": null,
            "grid_row": null,
            "grid_template_areas": null,
            "grid_template_columns": null,
            "grid_template_rows": null,
            "height": null,
            "justify_content": null,
            "justify_items": null,
            "left": null,
            "margin": null,
            "max_height": null,
            "max_width": null,
            "min_height": null,
            "min_width": null,
            "object_fit": null,
            "object_position": null,
            "order": null,
            "overflow": null,
            "overflow_x": null,
            "overflow_y": null,
            "padding": null,
            "right": null,
            "top": null,
            "visibility": null,
            "width": null
          }
        },
        "d59c5426d1434ea09729b35482a399b7": {
          "model_module": "@jupyter-widgets/controls",
          "model_name": "ProgressStyleModel",
          "model_module_version": "1.5.0",
          "state": {
            "_model_module": "@jupyter-widgets/controls",
            "_model_module_version": "1.5.0",
            "_model_name": "ProgressStyleModel",
            "_view_count": null,
            "_view_module": "@jupyter-widgets/base",
            "_view_module_version": "1.2.0",
            "_view_name": "StyleView",
            "bar_color": null,
            "description_width": ""
          }
        },
        "e91c1408475648319822d416cccc8497": {
          "model_module": "@jupyter-widgets/base",
          "model_name": "LayoutModel",
          "model_module_version": "1.2.0",
          "state": {
            "_model_module": "@jupyter-widgets/base",
            "_model_module_version": "1.2.0",
            "_model_name": "LayoutModel",
            "_view_count": null,
            "_view_module": "@jupyter-widgets/base",
            "_view_module_version": "1.2.0",
            "_view_name": "LayoutView",
            "align_content": null,
            "align_items": null,
            "align_self": null,
            "border": null,
            "bottom": null,
            "display": null,
            "flex": null,
            "flex_flow": null,
            "grid_area": null,
            "grid_auto_columns": null,
            "grid_auto_flow": null,
            "grid_auto_rows": null,
            "grid_column": null,
            "grid_gap": null,
            "grid_row": null,
            "grid_template_areas": null,
            "grid_template_columns": null,
            "grid_template_rows": null,
            "height": null,
            "justify_content": null,
            "justify_items": null,
            "left": null,
            "margin": null,
            "max_height": null,
            "max_width": null,
            "min_height": null,
            "min_width": null,
            "object_fit": null,
            "object_position": null,
            "order": null,
            "overflow": null,
            "overflow_x": null,
            "overflow_y": null,
            "padding": null,
            "right": null,
            "top": null,
            "visibility": null,
            "width": null
          }
        },
        "0c4120f88ac24f1f80370f5afa4ec9b1": {
          "model_module": "@jupyter-widgets/controls",
          "model_name": "DescriptionStyleModel",
          "model_module_version": "1.5.0",
          "state": {
            "_model_module": "@jupyter-widgets/controls",
            "_model_module_version": "1.5.0",
            "_model_name": "DescriptionStyleModel",
            "_view_count": null,
            "_view_module": "@jupyter-widgets/base",
            "_view_module_version": "1.2.0",
            "_view_name": "StyleView",
            "description_width": ""
          }
        },
        "7d85926e4a654f19939f578bcd6483cc": {
          "model_module": "@jupyter-widgets/controls",
          "model_name": "HBoxModel",
          "model_module_version": "1.5.0",
          "state": {
            "_dom_classes": [],
            "_model_module": "@jupyter-widgets/controls",
            "_model_module_version": "1.5.0",
            "_model_name": "HBoxModel",
            "_view_count": null,
            "_view_module": "@jupyter-widgets/controls",
            "_view_module_version": "1.5.0",
            "_view_name": "HBoxView",
            "box_style": "",
            "children": [
              "IPY_MODEL_3245654b23b648ada76854f65814af8f",
              "IPY_MODEL_0eccf30c064f4653835a2cd7ff6c342b",
              "IPY_MODEL_1d416e2a4f594dfdb8ac40317b778c2e"
            ],
            "layout": "IPY_MODEL_3c67503270ee49eb872cbec6e6e2b5fa"
          }
        },
        "3245654b23b648ada76854f65814af8f": {
          "model_module": "@jupyter-widgets/controls",
          "model_name": "HTMLModel",
          "model_module_version": "1.5.0",
          "state": {
            "_dom_classes": [],
            "_model_module": "@jupyter-widgets/controls",
            "_model_module_version": "1.5.0",
            "_model_name": "HTMLModel",
            "_view_count": null,
            "_view_module": "@jupyter-widgets/controls",
            "_view_module_version": "1.5.0",
            "_view_name": "HTMLView",
            "description": "",
            "description_tooltip": null,
            "layout": "IPY_MODEL_b4e7f220580a4a79b9ee38e8f4c30402",
            "placeholder": "​",
            "style": "IPY_MODEL_494f1d192baa46aab1422388cc29a63d",
            "value": "Pandas Apply: 100%"
          }
        },
        "0eccf30c064f4653835a2cd7ff6c342b": {
          "model_module": "@jupyter-widgets/controls",
          "model_name": "FloatProgressModel",
          "model_module_version": "1.5.0",
          "state": {
            "_dom_classes": [],
            "_model_module": "@jupyter-widgets/controls",
            "_model_module_version": "1.5.0",
            "_model_name": "FloatProgressModel",
            "_view_count": null,
            "_view_module": "@jupyter-widgets/controls",
            "_view_module_version": "1.5.0",
            "_view_name": "ProgressView",
            "bar_style": "success",
            "description": "",
            "description_tooltip": null,
            "layout": "IPY_MODEL_85e4a51c8adb47ef913647dcaa1e8063",
            "max": 7772,
            "min": 0,
            "orientation": "horizontal",
            "style": "IPY_MODEL_327b4017c7ea43e9a13332d98d50d47e",
            "value": 7772
          }
        },
        "1d416e2a4f594dfdb8ac40317b778c2e": {
          "model_module": "@jupyter-widgets/controls",
          "model_name": "HTMLModel",
          "model_module_version": "1.5.0",
          "state": {
            "_dom_classes": [],
            "_model_module": "@jupyter-widgets/controls",
            "_model_module_version": "1.5.0",
            "_model_name": "HTMLModel",
            "_view_count": null,
            "_view_module": "@jupyter-widgets/controls",
            "_view_module_version": "1.5.0",
            "_view_name": "HTMLView",
            "description": "",
            "description_tooltip": null,
            "layout": "IPY_MODEL_302ec862704d4a48a915d9321104e2c4",
            "placeholder": "​",
            "style": "IPY_MODEL_c66672c50a4a4a0bbeb11b96ffd92924",
            "value": " 7772/7772 [00:00&lt;00:00, 19571.59it/s]"
          }
        },
        "3c67503270ee49eb872cbec6e6e2b5fa": {
          "model_module": "@jupyter-widgets/base",
          "model_name": "LayoutModel",
          "model_module_version": "1.2.0",
          "state": {
            "_model_module": "@jupyter-widgets/base",
            "_model_module_version": "1.2.0",
            "_model_name": "LayoutModel",
            "_view_count": null,
            "_view_module": "@jupyter-widgets/base",
            "_view_module_version": "1.2.0",
            "_view_name": "LayoutView",
            "align_content": null,
            "align_items": null,
            "align_self": null,
            "border": null,
            "bottom": null,
            "display": null,
            "flex": null,
            "flex_flow": null,
            "grid_area": null,
            "grid_auto_columns": null,
            "grid_auto_flow": null,
            "grid_auto_rows": null,
            "grid_column": null,
            "grid_gap": null,
            "grid_row": null,
            "grid_template_areas": null,
            "grid_template_columns": null,
            "grid_template_rows": null,
            "height": null,
            "justify_content": null,
            "justify_items": null,
            "left": null,
            "margin": null,
            "max_height": null,
            "max_width": null,
            "min_height": null,
            "min_width": null,
            "object_fit": null,
            "object_position": null,
            "order": null,
            "overflow": null,
            "overflow_x": null,
            "overflow_y": null,
            "padding": null,
            "right": null,
            "top": null,
            "visibility": null,
            "width": null
          }
        },
        "b4e7f220580a4a79b9ee38e8f4c30402": {
          "model_module": "@jupyter-widgets/base",
          "model_name": "LayoutModel",
          "model_module_version": "1.2.0",
          "state": {
            "_model_module": "@jupyter-widgets/base",
            "_model_module_version": "1.2.0",
            "_model_name": "LayoutModel",
            "_view_count": null,
            "_view_module": "@jupyter-widgets/base",
            "_view_module_version": "1.2.0",
            "_view_name": "LayoutView",
            "align_content": null,
            "align_items": null,
            "align_self": null,
            "border": null,
            "bottom": null,
            "display": null,
            "flex": null,
            "flex_flow": null,
            "grid_area": null,
            "grid_auto_columns": null,
            "grid_auto_flow": null,
            "grid_auto_rows": null,
            "grid_column": null,
            "grid_gap": null,
            "grid_row": null,
            "grid_template_areas": null,
            "grid_template_columns": null,
            "grid_template_rows": null,
            "height": null,
            "justify_content": null,
            "justify_items": null,
            "left": null,
            "margin": null,
            "max_height": null,
            "max_width": null,
            "min_height": null,
            "min_width": null,
            "object_fit": null,
            "object_position": null,
            "order": null,
            "overflow": null,
            "overflow_x": null,
            "overflow_y": null,
            "padding": null,
            "right": null,
            "top": null,
            "visibility": null,
            "width": null
          }
        },
        "494f1d192baa46aab1422388cc29a63d": {
          "model_module": "@jupyter-widgets/controls",
          "model_name": "DescriptionStyleModel",
          "model_module_version": "1.5.0",
          "state": {
            "_model_module": "@jupyter-widgets/controls",
            "_model_module_version": "1.5.0",
            "_model_name": "DescriptionStyleModel",
            "_view_count": null,
            "_view_module": "@jupyter-widgets/base",
            "_view_module_version": "1.2.0",
            "_view_name": "StyleView",
            "description_width": ""
          }
        },
        "85e4a51c8adb47ef913647dcaa1e8063": {
          "model_module": "@jupyter-widgets/base",
          "model_name": "LayoutModel",
          "model_module_version": "1.2.0",
          "state": {
            "_model_module": "@jupyter-widgets/base",
            "_model_module_version": "1.2.0",
            "_model_name": "LayoutModel",
            "_view_count": null,
            "_view_module": "@jupyter-widgets/base",
            "_view_module_version": "1.2.0",
            "_view_name": "LayoutView",
            "align_content": null,
            "align_items": null,
            "align_self": null,
            "border": null,
            "bottom": null,
            "display": null,
            "flex": null,
            "flex_flow": null,
            "grid_area": null,
            "grid_auto_columns": null,
            "grid_auto_flow": null,
            "grid_auto_rows": null,
            "grid_column": null,
            "grid_gap": null,
            "grid_row": null,
            "grid_template_areas": null,
            "grid_template_columns": null,
            "grid_template_rows": null,
            "height": null,
            "justify_content": null,
            "justify_items": null,
            "left": null,
            "margin": null,
            "max_height": null,
            "max_width": null,
            "min_height": null,
            "min_width": null,
            "object_fit": null,
            "object_position": null,
            "order": null,
            "overflow": null,
            "overflow_x": null,
            "overflow_y": null,
            "padding": null,
            "right": null,
            "top": null,
            "visibility": null,
            "width": null
          }
        },
        "327b4017c7ea43e9a13332d98d50d47e": {
          "model_module": "@jupyter-widgets/controls",
          "model_name": "ProgressStyleModel",
          "model_module_version": "1.5.0",
          "state": {
            "_model_module": "@jupyter-widgets/controls",
            "_model_module_version": "1.5.0",
            "_model_name": "ProgressStyleModel",
            "_view_count": null,
            "_view_module": "@jupyter-widgets/base",
            "_view_module_version": "1.2.0",
            "_view_name": "StyleView",
            "bar_color": null,
            "description_width": ""
          }
        },
        "302ec862704d4a48a915d9321104e2c4": {
          "model_module": "@jupyter-widgets/base",
          "model_name": "LayoutModel",
          "model_module_version": "1.2.0",
          "state": {
            "_model_module": "@jupyter-widgets/base",
            "_model_module_version": "1.2.0",
            "_model_name": "LayoutModel",
            "_view_count": null,
            "_view_module": "@jupyter-widgets/base",
            "_view_module_version": "1.2.0",
            "_view_name": "LayoutView",
            "align_content": null,
            "align_items": null,
            "align_self": null,
            "border": null,
            "bottom": null,
            "display": null,
            "flex": null,
            "flex_flow": null,
            "grid_area": null,
            "grid_auto_columns": null,
            "grid_auto_flow": null,
            "grid_auto_rows": null,
            "grid_column": null,
            "grid_gap": null,
            "grid_row": null,
            "grid_template_areas": null,
            "grid_template_columns": null,
            "grid_template_rows": null,
            "height": null,
            "justify_content": null,
            "justify_items": null,
            "left": null,
            "margin": null,
            "max_height": null,
            "max_width": null,
            "min_height": null,
            "min_width": null,
            "object_fit": null,
            "object_position": null,
            "order": null,
            "overflow": null,
            "overflow_x": null,
            "overflow_y": null,
            "padding": null,
            "right": null,
            "top": null,
            "visibility": null,
            "width": null
          }
        },
        "c66672c50a4a4a0bbeb11b96ffd92924": {
          "model_module": "@jupyter-widgets/controls",
          "model_name": "DescriptionStyleModel",
          "model_module_version": "1.5.0",
          "state": {
            "_model_module": "@jupyter-widgets/controls",
            "_model_module_version": "1.5.0",
            "_model_name": "DescriptionStyleModel",
            "_view_count": null,
            "_view_module": "@jupyter-widgets/base",
            "_view_module_version": "1.2.0",
            "_view_name": "StyleView",
            "description_width": ""
          }
        }
      }
    }
  },
  "cells": [
    {
      "cell_type": "markdown",
      "source": [
        "# The Power of Data: Revealing Insights and Pitfalls in Data Analysis - ChatGPT Tweets"
      ],
      "metadata": {
        "id": "vVWc9FQrKZVn"
      }
    },
    {
      "cell_type": "code",
      "execution_count": 2,
      "metadata": {
        "id": "aOwmp3ta__Wr"
      },
      "outputs": [],
      "source": [
        "import pandas as pd\n",
        "import numpy as np\n",
        "import re\n",
        "\n",
        "from sklearn.model_selection import train_test_split\n",
        "from sklearn.preprocessing import LabelEncoder\n",
        "\n",
        "from tensorflow.keras.preprocessing.text import Tokenizer\n",
        "from tensorflow.keras.preprocessing.sequence import pad_sequences\n",
        "from tensorflow.keras.models import Model\n",
        "from tensorflow.keras.layers import Input, Embedding, Dense, Dropout, Concatenate, GlobalMaxPooling1D\n",
        "from tensorflow.keras.optimizers import Adam\n",
        "from tensorflow.keras.callbacks import EarlyStopping, ModelCheckpoint\n",
        "\n",
        "\n",
        "df = pd.read_csv('chatgpt_daily_tweets.csv')\n",
        "def clean_text(text):\n",
        "    text = re.sub(r'http\\S+', '', text)\n",
        "    text = re.sub(r'@\\w+', '', text)\n",
        "    text = re.sub(r'#\\w+', '', text)\n",
        "    text = re.sub(r'[^\\w\\s]', '', text)\n",
        "    return text.lower()\n",
        "\n",
        "df['cleaned_text'] = df['text'].apply(clean_text)\n",
        "df = df[df['lang'] == 'en']\n",
        "\n",
        "max_len = 100\n",
        "max_words = 10000\n",
        "\n",
        "tokenizer = Tokenizer(num_words=max_words, lower=True)\n",
        "tokenizer.fit_on_texts(df['cleaned_text'])\n",
        "sequences = tokenizer.texts_to_sequences(df['cleaned_text'])\n",
        "word_index = tokenizer.word_index\n",
        "data = pad_sequences(sequences, maxlen=max_len)\n",
        "\n",
        "from textblob import TextBlob\n",
        "def get_sentiment_polarity(text):\n",
        "    analysis = TextBlob(text)\n",
        "    return analysis.sentiment.polarity\n",
        "\n",
        "df['sentiment_polarity'] = df['cleaned_text'].apply(get_sentiment_polarity)\n",
        "df['sentiment'] = np.where(df['sentiment_polarity'] >= 0, 'positive', 'negative')"
      ]
    },
    {
      "cell_type": "code",
      "source": [
        "df.head()"
      ],
      "metadata": {
        "colab": {
          "base_uri": "https://localhost:8080/",
          "height": 594
        },
        "id": "0eldcuu5AIoa",
        "outputId": "0a6b2b63-6736-4258-dcbb-dc10213b3599"
      },
      "execution_count": 3,
      "outputs": [
        {
          "output_type": "execute_result",
          "data": {
            "text/plain": [
              "                 tweet_id              tweet_created  \\\n",
              "2  1.6427385624866693e+18  2023-04-03 03:59:28+00:00   \n",
              "3  1.6429198880616448e+18  2023-04-03 15:59:59+00:00   \n",
              "4   1.642708351690711e+18  2023-04-03 01:59:25+00:00   \n",
              "5  1.6428593561893274e+18  2023-04-03 11:59:28+00:00   \n",
              "9  1.6428744495305933e+18  2023-04-03 12:59:26+00:00   \n",
              "\n",
              "              tweet_extracted  \\\n",
              "2  2023-04-08 01:06:52.504868   \n",
              "3  2023-04-08 01:07:04.742617   \n",
              "4  2023-04-08 01:06:50.638068   \n",
              "5  2023-04-08 01:07:00.375167   \n",
              "9  2023-04-08 01:07:01.437161   \n",
              "\n",
              "                                                text lang  \\\n",
              "2  RT @DarrellLerner: ChatGPT Plugins are the fas...   en   \n",
              "3  Get an intelligent chatbot for your website in...   en   \n",
              "4  🔥Hey Guys, #ZenithSwap has launched at just $ ...   en   \n",
              "5  RT @sinsonetwork: Now! Join #SINSO DataLand^Ch...   en   \n",
              "9  The plagiarism detector will introduce its #AI...   en   \n",
              "\n",
              "               user_id             user_name    user_username  \\\n",
              "2           2383245894                    pk  pradeep42329225   \n",
              "3  1633040597782081537              AR Leyva     ArrheniusLey   \n",
              "4  1311403370670960640    Human Being 🇨🇳🇸🇬🇻🇳  KiarostamiBeing   \n",
              "5            462142717             MokoHaram         holymoko   \n",
              "9   896094324341039104  Dr. Susan D'Agostino  susan_dagostino   \n",
              "\n",
              "        user_location                                   user_description  ...  \\\n",
              "2               India                             💐💐।।जय श्री महाकाल।।💐💐  ...   \n",
              "3      United Kingdom  Passionate about AI and its potential to trans...  ...   \n",
              "4         Chicago, IL  Freedom is the Recognition of Necessity • Mark...  ...   \n",
              "5     Zambia mufulira                                      Public faker🍂  ...   \n",
              "9  New Hampshire, USA  Tech reporter @insidehighered. Mathematician. ...  ...   \n",
              "\n",
              "  user_tweet_count  user_verified  source  retweet_count like_count  \\\n",
              "2           3816.0          False     NaN          628.0        0.0   \n",
              "3            198.0          False     NaN            0.0        0.0   \n",
              "4          12949.0          False     NaN            0.0        0.0   \n",
              "5          20438.0          False     NaN          270.0        0.0   \n",
              "9           3320.0           True     NaN            7.0       22.0   \n",
              "\n",
              "   reply_count  impression_count  \\\n",
              "2          0.0               0.0   \n",
              "3          0.0              58.0   \n",
              "4          0.0               0.0   \n",
              "5          0.0               0.0   \n",
              "9          1.0            5769.0   \n",
              "\n",
              "                                        cleaned_text  sentiment_polarity  \\\n",
              "2  rt  chatgpt plugins are the fastest way to get...            0.375000   \n",
              "3  get an intelligent chatbot for your website in...            0.411111   \n",
              "4  hey guys  has launched at just  55000 usd mark...            0.000000   \n",
              "5  rt  now join  datalandchatgpt \\n32346\\ntasks\\n...            0.000000   \n",
              "9  the plagiarism detector will introduce its  de...            0.200000   \n",
              "\n",
              "   sentiment  \n",
              "2   positive  \n",
              "3   positive  \n",
              "4   positive  \n",
              "5   positive  \n",
              "9   positive  \n",
              "\n",
              "[5 rows x 23 columns]"
            ],
            "text/html": [
              "\n",
              "  <div id=\"df-1b1afcff-90b4-4140-aa81-bdd9871147ae\">\n",
              "    <div class=\"colab-df-container\">\n",
              "      <div>\n",
              "<style scoped>\n",
              "    .dataframe tbody tr th:only-of-type {\n",
              "        vertical-align: middle;\n",
              "    }\n",
              "\n",
              "    .dataframe tbody tr th {\n",
              "        vertical-align: top;\n",
              "    }\n",
              "\n",
              "    .dataframe thead th {\n",
              "        text-align: right;\n",
              "    }\n",
              "</style>\n",
              "<table border=\"1\" class=\"dataframe\">\n",
              "  <thead>\n",
              "    <tr style=\"text-align: right;\">\n",
              "      <th></th>\n",
              "      <th>tweet_id</th>\n",
              "      <th>tweet_created</th>\n",
              "      <th>tweet_extracted</th>\n",
              "      <th>text</th>\n",
              "      <th>lang</th>\n",
              "      <th>user_id</th>\n",
              "      <th>user_name</th>\n",
              "      <th>user_username</th>\n",
              "      <th>user_location</th>\n",
              "      <th>user_description</th>\n",
              "      <th>...</th>\n",
              "      <th>user_tweet_count</th>\n",
              "      <th>user_verified</th>\n",
              "      <th>source</th>\n",
              "      <th>retweet_count</th>\n",
              "      <th>like_count</th>\n",
              "      <th>reply_count</th>\n",
              "      <th>impression_count</th>\n",
              "      <th>cleaned_text</th>\n",
              "      <th>sentiment_polarity</th>\n",
              "      <th>sentiment</th>\n",
              "    </tr>\n",
              "  </thead>\n",
              "  <tbody>\n",
              "    <tr>\n",
              "      <th>2</th>\n",
              "      <td>1.6427385624866693e+18</td>\n",
              "      <td>2023-04-03 03:59:28+00:00</td>\n",
              "      <td>2023-04-08 01:06:52.504868</td>\n",
              "      <td>RT @DarrellLerner: ChatGPT Plugins are the fas...</td>\n",
              "      <td>en</td>\n",
              "      <td>2383245894</td>\n",
              "      <td>pk</td>\n",
              "      <td>pradeep42329225</td>\n",
              "      <td>India</td>\n",
              "      <td>💐💐।।जय श्री महाकाल।।💐💐</td>\n",
              "      <td>...</td>\n",
              "      <td>3816.0</td>\n",
              "      <td>False</td>\n",
              "      <td>NaN</td>\n",
              "      <td>628.0</td>\n",
              "      <td>0.0</td>\n",
              "      <td>0.0</td>\n",
              "      <td>0.0</td>\n",
              "      <td>rt  chatgpt plugins are the fastest way to get...</td>\n",
              "      <td>0.375000</td>\n",
              "      <td>positive</td>\n",
              "    </tr>\n",
              "    <tr>\n",
              "      <th>3</th>\n",
              "      <td>1.6429198880616448e+18</td>\n",
              "      <td>2023-04-03 15:59:59+00:00</td>\n",
              "      <td>2023-04-08 01:07:04.742617</td>\n",
              "      <td>Get an intelligent chatbot for your website in...</td>\n",
              "      <td>en</td>\n",
              "      <td>1633040597782081537</td>\n",
              "      <td>AR Leyva</td>\n",
              "      <td>ArrheniusLey</td>\n",
              "      <td>United Kingdom</td>\n",
              "      <td>Passionate about AI and its potential to trans...</td>\n",
              "      <td>...</td>\n",
              "      <td>198.0</td>\n",
              "      <td>False</td>\n",
              "      <td>NaN</td>\n",
              "      <td>0.0</td>\n",
              "      <td>0.0</td>\n",
              "      <td>0.0</td>\n",
              "      <td>58.0</td>\n",
              "      <td>get an intelligent chatbot for your website in...</td>\n",
              "      <td>0.411111</td>\n",
              "      <td>positive</td>\n",
              "    </tr>\n",
              "    <tr>\n",
              "      <th>4</th>\n",
              "      <td>1.642708351690711e+18</td>\n",
              "      <td>2023-04-03 01:59:25+00:00</td>\n",
              "      <td>2023-04-08 01:06:50.638068</td>\n",
              "      <td>🔥Hey Guys, #ZenithSwap has launched at just $ ...</td>\n",
              "      <td>en</td>\n",
              "      <td>1311403370670960640</td>\n",
              "      <td>Human Being 🇨🇳🇸🇬🇻🇳</td>\n",
              "      <td>KiarostamiBeing</td>\n",
              "      <td>Chicago, IL</td>\n",
              "      <td>Freedom is the Recognition of Necessity • Mark...</td>\n",
              "      <td>...</td>\n",
              "      <td>12949.0</td>\n",
              "      <td>False</td>\n",
              "      <td>NaN</td>\n",
              "      <td>0.0</td>\n",
              "      <td>0.0</td>\n",
              "      <td>0.0</td>\n",
              "      <td>0.0</td>\n",
              "      <td>hey guys  has launched at just  55000 usd mark...</td>\n",
              "      <td>0.000000</td>\n",
              "      <td>positive</td>\n",
              "    </tr>\n",
              "    <tr>\n",
              "      <th>5</th>\n",
              "      <td>1.6428593561893274e+18</td>\n",
              "      <td>2023-04-03 11:59:28+00:00</td>\n",
              "      <td>2023-04-08 01:07:00.375167</td>\n",
              "      <td>RT @sinsonetwork: Now! Join #SINSO DataLand^Ch...</td>\n",
              "      <td>en</td>\n",
              "      <td>462142717</td>\n",
              "      <td>MokoHaram</td>\n",
              "      <td>holymoko</td>\n",
              "      <td>Zambia mufulira</td>\n",
              "      <td>Public faker🍂</td>\n",
              "      <td>...</td>\n",
              "      <td>20438.0</td>\n",
              "      <td>False</td>\n",
              "      <td>NaN</td>\n",
              "      <td>270.0</td>\n",
              "      <td>0.0</td>\n",
              "      <td>0.0</td>\n",
              "      <td>0.0</td>\n",
              "      <td>rt  now join  datalandchatgpt \\n32346\\ntasks\\n...</td>\n",
              "      <td>0.000000</td>\n",
              "      <td>positive</td>\n",
              "    </tr>\n",
              "    <tr>\n",
              "      <th>9</th>\n",
              "      <td>1.6428744495305933e+18</td>\n",
              "      <td>2023-04-03 12:59:26+00:00</td>\n",
              "      <td>2023-04-08 01:07:01.437161</td>\n",
              "      <td>The plagiarism detector will introduce its #AI...</td>\n",
              "      <td>en</td>\n",
              "      <td>896094324341039104</td>\n",
              "      <td>Dr. Susan D'Agostino</td>\n",
              "      <td>susan_dagostino</td>\n",
              "      <td>New Hampshire, USA</td>\n",
              "      <td>Tech reporter @insidehighered. Mathematician. ...</td>\n",
              "      <td>...</td>\n",
              "      <td>3320.0</td>\n",
              "      <td>True</td>\n",
              "      <td>NaN</td>\n",
              "      <td>7.0</td>\n",
              "      <td>22.0</td>\n",
              "      <td>1.0</td>\n",
              "      <td>5769.0</td>\n",
              "      <td>the plagiarism detector will introduce its  de...</td>\n",
              "      <td>0.200000</td>\n",
              "      <td>positive</td>\n",
              "    </tr>\n",
              "  </tbody>\n",
              "</table>\n",
              "<p>5 rows × 23 columns</p>\n",
              "</div>\n",
              "      <button class=\"colab-df-convert\" onclick=\"convertToInteractive('df-1b1afcff-90b4-4140-aa81-bdd9871147ae')\"\n",
              "              title=\"Convert this dataframe to an interactive table.\"\n",
              "              style=\"display:none;\">\n",
              "        \n",
              "  <svg xmlns=\"http://www.w3.org/2000/svg\" height=\"24px\"viewBox=\"0 0 24 24\"\n",
              "       width=\"24px\">\n",
              "    <path d=\"M0 0h24v24H0V0z\" fill=\"none\"/>\n",
              "    <path d=\"M18.56 5.44l.94 2.06.94-2.06 2.06-.94-2.06-.94-.94-2.06-.94 2.06-2.06.94zm-11 1L8.5 8.5l.94-2.06 2.06-.94-2.06-.94L8.5 2.5l-.94 2.06-2.06.94zm10 10l.94 2.06.94-2.06 2.06-.94-2.06-.94-.94-2.06-.94 2.06-2.06.94z\"/><path d=\"M17.41 7.96l-1.37-1.37c-.4-.4-.92-.59-1.43-.59-.52 0-1.04.2-1.43.59L10.3 9.45l-7.72 7.72c-.78.78-.78 2.05 0 2.83L4 21.41c.39.39.9.59 1.41.59.51 0 1.02-.2 1.41-.59l7.78-7.78 2.81-2.81c.8-.78.8-2.07 0-2.86zM5.41 20L4 18.59l7.72-7.72 1.47 1.35L5.41 20z\"/>\n",
              "  </svg>\n",
              "      </button>\n",
              "      \n",
              "  <style>\n",
              "    .colab-df-container {\n",
              "      display:flex;\n",
              "      flex-wrap:wrap;\n",
              "      gap: 12px;\n",
              "    }\n",
              "\n",
              "    .colab-df-convert {\n",
              "      background-color: #E8F0FE;\n",
              "      border: none;\n",
              "      border-radius: 50%;\n",
              "      cursor: pointer;\n",
              "      display: none;\n",
              "      fill: #1967D2;\n",
              "      height: 32px;\n",
              "      padding: 0 0 0 0;\n",
              "      width: 32px;\n",
              "    }\n",
              "\n",
              "    .colab-df-convert:hover {\n",
              "      background-color: #E2EBFA;\n",
              "      box-shadow: 0px 1px 2px rgba(60, 64, 67, 0.3), 0px 1px 3px 1px rgba(60, 64, 67, 0.15);\n",
              "      fill: #174EA6;\n",
              "    }\n",
              "\n",
              "    [theme=dark] .colab-df-convert {\n",
              "      background-color: #3B4455;\n",
              "      fill: #D2E3FC;\n",
              "    }\n",
              "\n",
              "    [theme=dark] .colab-df-convert:hover {\n",
              "      background-color: #434B5C;\n",
              "      box-shadow: 0px 1px 3px 1px rgba(0, 0, 0, 0.15);\n",
              "      filter: drop-shadow(0px 1px 2px rgba(0, 0, 0, 0.3));\n",
              "      fill: #FFFFFF;\n",
              "    }\n",
              "  </style>\n",
              "\n",
              "      <script>\n",
              "        const buttonEl =\n",
              "          document.querySelector('#df-1b1afcff-90b4-4140-aa81-bdd9871147ae button.colab-df-convert');\n",
              "        buttonEl.style.display =\n",
              "          google.colab.kernel.accessAllowed ? 'block' : 'none';\n",
              "\n",
              "        async function convertToInteractive(key) {\n",
              "          const element = document.querySelector('#df-1b1afcff-90b4-4140-aa81-bdd9871147ae');\n",
              "          const dataTable =\n",
              "            await google.colab.kernel.invokeFunction('convertToInteractive',\n",
              "                                                     [key], {});\n",
              "          if (!dataTable) return;\n",
              "\n",
              "          const docLinkHtml = 'Like what you see? Visit the ' +\n",
              "            '<a target=\"_blank\" href=https://colab.research.google.com/notebooks/data_table.ipynb>data table notebook</a>'\n",
              "            + ' to learn more about interactive tables.';\n",
              "          element.innerHTML = '';\n",
              "          dataTable['output_type'] = 'display_data';\n",
              "          await google.colab.output.renderOutput(dataTable, element);\n",
              "          const docLink = document.createElement('div');\n",
              "          docLink.innerHTML = docLinkHtml;\n",
              "          element.appendChild(docLink);\n",
              "        }\n",
              "      </script>\n",
              "    </div>\n",
              "  </div>\n",
              "  "
            ]
          },
          "metadata": {},
          "execution_count": 3
        }
      ]
    },
    {
      "cell_type": "code",
      "source": [
        "df[\"sentiment\"].value_counts()"
      ],
      "metadata": {
        "colab": {
          "base_uri": "https://localhost:8080/"
        },
        "id": "rIzNXKrNgT8s",
        "outputId": "d288f1eb-1290-46be-ebe5-1223f233be58"
      },
      "execution_count": 4,
      "outputs": [
        {
          "output_type": "execute_result",
          "data": {
            "text/plain": [
              "positive    17414\n",
              "negative     3131\n",
              "Name: sentiment, dtype: int64"
            ]
          },
          "metadata": {},
          "execution_count": 4
        }
      ]
    },
    {
      "cell_type": "code",
      "source": [
        "df[\"sentiment\"].value_counts().plot(kind='pie', autopct='%1.1f%%',title=\"Sentiment Analysis for tweets about Chatgpt\",figsize=(3,3))\n"
      ],
      "metadata": {
        "colab": {
          "base_uri": "https://localhost:8080/",
          "height": 308
        },
        "id": "eSmq6H6JAS3v",
        "outputId": "47c0cc5b-e3a4-45a7-ff50-ed01d33b99e6"
      },
      "execution_count": 5,
      "outputs": [
        {
          "output_type": "execute_result",
          "data": {
            "text/plain": [
              "<Axes: title={'center': 'Sentiment Analysis for tweets about Chatgpt'}, ylabel='sentiment'>"
            ]
          },
          "metadata": {},
          "execution_count": 5
        },
        {
          "output_type": "display_data",
          "data": {
            "text/plain": [
              "<Figure size 300x300 with 1 Axes>"
            ],
            "image/png": "[encoded data removed]"
          },
          "metadata": {}
        }
      ]
    },
    {
      "cell_type": "code",
      "source": [
        "print(\"The Percentage of good reviews about ChatGPT are: \", str(int((len(df[df[\"sentiment\"] == \"positive\"])/len(df))*100)) + \"%\")"
      ],
      "metadata": {
        "colab": {
          "base_uri": "https://localhost:8080/"
        },
        "id": "igXPBxwBgorG",
        "outputId": "d8f54aa7-7ca0-44c8-a535-118f007da1fb"
      },
      "execution_count": 6,
      "outputs": [
        {
          "output_type": "stream",
          "name": "stdout",
          "text": [
            "The Percentage of good reviews about ChatGPT are:  84%\n"
          ]
        }
      ]
    },
    {
      "cell_type": "markdown",
      "source": [
        "## Based on the last plot, It can be advertised that 84% of people have good feelings about Chatgpt!"
      ],
      "metadata": {
        "id": "Pc7W3H52gYOD"
      }
    },
    {
      "cell_type": "code",
      "source": [
        "df[\"tweet_created\"].max()"
      ],
      "metadata": {
        "colab": {
          "base_uri": "https://localhost:8080/",
          "height": 36
        },
        "id": "DZU-zxMyAxJP",
        "outputId": "0b5683f0-83d9-44e5-bc9f-1c07ced5608f"
      },
      "execution_count": 7,
      "outputs": [
        {
          "output_type": "execute_result",
          "data": {
            "text/plain": [
              "'2023-05-12 23:59:59+00:00'"
            ],
            "application/vnd.google.colaboratory.intrinsic+json": {
              "type": "string"
            }
          },
          "metadata": {},
          "execution_count": 7
        }
      ]
    },
    {
      "cell_type": "code",
      "source": [
        "df[\"tweet_created\"].min()"
      ],
      "metadata": {
        "colab": {
          "base_uri": "https://localhost:8080/",
          "height": 36
        },
        "id": "SHwzfGG9A6HC",
        "outputId": "b66a50f2-409e-4bfb-cf50-193f9f803672"
      },
      "execution_count": 8,
      "outputs": [
        {
          "output_type": "execute_result",
          "data": {
            "text/plain": [
              "'2023-04-03 00:59:16+00:00'"
            ],
            "application/vnd.google.colaboratory.intrinsic+json": {
              "type": "string"
            }
          },
          "metadata": {},
          "execution_count": 8
        }
      ]
    },
    {
      "cell_type": "code",
      "source": [
        "# Misleading Sentiment Analysis"
      ],
      "metadata": {
        "id": "om6sfXexB54q"
      },
      "execution_count": 9,
      "outputs": []
    },
    {
      "cell_type": "code",
      "source": [
        "df[[\"cleaned_text\",\"sentiment_polarity\",\t\"sentiment\"]]"
      ],
      "metadata": {
        "colab": {
          "base_uri": "https://localhost:8080/",
          "height": 423
        },
        "id": "ZKPkV2NpCAxq",
        "outputId": "14de5bfd-9975-4407-e5ec-521d46537e40"
      },
      "execution_count": 10,
      "outputs": [
        {
          "output_type": "execute_result",
          "data": {
            "text/plain": [
              "                                            cleaned_text  sentiment_polarity  \\\n",
              "2      rt  chatgpt plugins are the fastest way to get...            0.375000   \n",
              "3      get an intelligent chatbot for your website in...            0.411111   \n",
              "4      hey guys  has launched at just  55000 usd mark...            0.000000   \n",
              "5      rt  now join  datalandchatgpt \\n32346\\ntasks\\n...            0.000000   \n",
              "9      the plagiarism detector will introduce its  de...            0.200000   \n",
              "...                                                  ...                 ...   \n",
              "66363  rt  wtf seriously a very serious question pose...           -0.244444   \n",
              "66364  is googles updated bard  chatgpts strongest co...            0.000000   \n",
              "66368  rt  chatgpt has now a big problem\\n\\ngoogle ju...           -0.088889   \n",
              "66371  rt  all chatgpt plus users getting browsing an...            0.200000   \n",
              "66372  rt  wtf seriously a very serious question pose...           -0.244444   \n",
              "\n",
              "      sentiment  \n",
              "2      positive  \n",
              "3      positive  \n",
              "4      positive  \n",
              "5      positive  \n",
              "9      positive  \n",
              "...         ...  \n",
              "66363  negative  \n",
              "66364  positive  \n",
              "66368  negative  \n",
              "66371  positive  \n",
              "66372  negative  \n",
              "\n",
              "[20545 rows x 3 columns]"
            ],
            "text/html": [
              "\n",
              "  <div id=\"df-b4dd2faa-7d6b-4135-9efa-d01647961f12\">\n",
              "    <div class=\"colab-df-container\">\n",
              "      <div>\n",
              "<style scoped>\n",
              "    .dataframe tbody tr th:only-of-type {\n",
              "        vertical-align: middle;\n",
              "    }\n",
              "\n",
              "    .dataframe tbody tr th {\n",
              "        vertical-align: top;\n",
              "    }\n",
              "\n",
              "    .dataframe thead th {\n",
              "        text-align: right;\n",
              "    }\n",
              "</style>\n",
              "<table border=\"1\" class=\"dataframe\">\n",
              "  <thead>\n",
              "    <tr style=\"text-align: right;\">\n",
              "      <th></th>\n",
              "      <th>cleaned_text</th>\n",
              "      <th>sentiment_polarity</th>\n",
              "      <th>sentiment</th>\n",
              "    </tr>\n",
              "  </thead>\n",
              "  <tbody>\n",
              "    <tr>\n",
              "      <th>2</th>\n",
              "      <td>rt  chatgpt plugins are the fastest way to get...</td>\n",
              "      <td>0.375000</td>\n",
              "      <td>positive</td>\n",
              "    </tr>\n",
              "    <tr>\n",
              "      <th>3</th>\n",
              "      <td>get an intelligent chatbot for your website in...</td>\n",
              "      <td>0.411111</td>\n",
              "      <td>positive</td>\n",
              "    </tr>\n",
              "    <tr>\n",
              "      <th>4</th>\n",
              "      <td>hey guys  has launched at just  55000 usd mark...</td>\n",
              "      <td>0.000000</td>\n",
              "      <td>positive</td>\n",
              "    </tr>\n",
              "    <tr>\n",
              "      <th>5</th>\n",
              "      <td>rt  now join  datalandchatgpt \\n32346\\ntasks\\n...</td>\n",
              "      <td>0.000000</td>\n",
              "      <td>positive</td>\n",
              "    </tr>\n",
              "    <tr>\n",
              "      <th>9</th>\n",
              "      <td>the plagiarism detector will introduce its  de...</td>\n",
              "      <td>0.200000</td>\n",
              "      <td>positive</td>\n",
              "    </tr>\n",
              "    <tr>\n",
              "      <th>...</th>\n",
              "      <td>...</td>\n",
              "      <td>...</td>\n",
              "      <td>...</td>\n",
              "    </tr>\n",
              "    <tr>\n",
              "      <th>66363</th>\n",
              "      <td>rt  wtf seriously a very serious question pose...</td>\n",
              "      <td>-0.244444</td>\n",
              "      <td>negative</td>\n",
              "    </tr>\n",
              "    <tr>\n",
              "      <th>66364</th>\n",
              "      <td>is googles updated bard  chatgpts strongest co...</td>\n",
              "      <td>0.000000</td>\n",
              "      <td>positive</td>\n",
              "    </tr>\n",
              "    <tr>\n",
              "      <th>66368</th>\n",
              "      <td>rt  chatgpt has now a big problem\\n\\ngoogle ju...</td>\n",
              "      <td>-0.088889</td>\n",
              "      <td>negative</td>\n",
              "    </tr>\n",
              "    <tr>\n",
              "      <th>66371</th>\n",
              "      <td>rt  all chatgpt plus users getting browsing an...</td>\n",
              "      <td>0.200000</td>\n",
              "      <td>positive</td>\n",
              "    </tr>\n",
              "    <tr>\n",
              "      <th>66372</th>\n",
              "      <td>rt  wtf seriously a very serious question pose...</td>\n",
              "      <td>-0.244444</td>\n",
              "      <td>negative</td>\n",
              "    </tr>\n",
              "  </tbody>\n",
              "</table>\n",
              "<p>20545 rows × 3 columns</p>\n",
              "</div>\n",
              "      <button class=\"colab-df-convert\" onclick=\"convertToInteractive('df-b4dd2faa-7d6b-4135-9efa-d01647961f12')\"\n",
              "              title=\"Convert this dataframe to an interactive table.\"\n",
              "              style=\"display:none;\">\n",
              "        \n",
              "  <svg xmlns=\"http://www.w3.org/2000/svg\" height=\"24px\"viewBox=\"0 0 24 24\"\n",
              "       width=\"24px\">\n",
              "    <path d=\"M0 0h24v24H0V0z\" fill=\"none\"/>\n",
              "    <path d=\"M18.56 5.44l.94 2.06.94-2.06 2.06-.94-2.06-.94-.94-2.06-.94 2.06-2.06.94zm-11 1L8.5 8.5l.94-2.06 2.06-.94-2.06-.94L8.5 2.5l-.94 2.06-2.06.94zm10 10l.94 2.06.94-2.06 2.06-.94-2.06-.94-.94-2.06-.94 2.06-2.06.94z\"/><path d=\"M17.41 7.96l-1.37-1.37c-.4-.4-.92-.59-1.43-.59-.52 0-1.04.2-1.43.59L10.3 9.45l-7.72 7.72c-.78.78-.78 2.05 0 2.83L4 21.41c.39.39.9.59 1.41.59.51 0 1.02-.2 1.41-.59l7.78-7.78 2.81-2.81c.8-.78.8-2.07 0-2.86zM5.41 20L4 18.59l7.72-7.72 1.47 1.35L5.41 20z\"/>\n",
              "  </svg>\n",
              "      </button>\n",
              "      \n",
              "  <style>\n",
              "    .colab-df-container {\n",
              "      display:flex;\n",
              "      flex-wrap:wrap;\n",
              "      gap: 12px;\n",
              "    }\n",
              "\n",
              "    .colab-df-convert {\n",
              "      background-color: #E8F0FE;\n",
              "      border: none;\n",
              "      border-radius: 50%;\n",
              "      cursor: pointer;\n",
              "      display: none;\n",
              "      fill: #1967D2;\n",
              "      height: 32px;\n",
              "      padding: 0 0 0 0;\n",
              "      width: 32px;\n",
              "    }\n",
              "\n",
              "    .colab-df-convert:hover {\n",
              "      background-color: #E2EBFA;\n",
              "      box-shadow: 0px 1px 2px rgba(60, 64, 67, 0.3), 0px 1px 3px 1px rgba(60, 64, 67, 0.15);\n",
              "      fill: #174EA6;\n",
              "    }\n",
              "\n",
              "    [theme=dark] .colab-df-convert {\n",
              "      background-color: #3B4455;\n",
              "      fill: #D2E3FC;\n",
              "    }\n",
              "\n",
              "    [theme=dark] .colab-df-convert:hover {\n",
              "      background-color: #434B5C;\n",
              "      box-shadow: 0px 1px 3px 1px rgba(0, 0, 0, 0.15);\n",
              "      filter: drop-shadow(0px 1px 2px rgba(0, 0, 0, 0.3));\n",
              "      fill: #FFFFFF;\n",
              "    }\n",
              "  </style>\n",
              "\n",
              "      <script>\n",
              "        const buttonEl =\n",
              "          document.querySelector('#df-b4dd2faa-7d6b-4135-9efa-d01647961f12 button.colab-df-convert');\n",
              "        buttonEl.style.display =\n",
              "          google.colab.kernel.accessAllowed ? 'block' : 'none';\n",
              "\n",
              "        async function convertToInteractive(key) {\n",
              "          const element = document.querySelector('#df-b4dd2faa-7d6b-4135-9efa-d01647961f12');\n",
              "          const dataTable =\n",
              "            await google.colab.kernel.invokeFunction('convertToInteractive',\n",
              "                                                     [key], {});\n",
              "          if (!dataTable) return;\n",
              "\n",
              "          const docLinkHtml = 'Like what you see? Visit the ' +\n",
              "            '<a target=\"_blank\" href=https://colab.research.google.com/notebooks/data_table.ipynb>data table notebook</a>'\n",
              "            + ' to learn more about interactive tables.';\n",
              "          element.innerHTML = '';\n",
              "          dataTable['output_type'] = 'display_data';\n",
              "          await google.colab.output.renderOutput(dataTable, element);\n",
              "          const docLink = document.createElement('div');\n",
              "          docLink.innerHTML = docLinkHtml;\n",
              "          element.appendChild(docLink);\n",
              "        }\n",
              "      </script>\n",
              "    </div>\n",
              "  </div>\n",
              "  "
            ]
          },
          "metadata": {},
          "execution_count": 10
        }
      ]
    },
    {
      "cell_type": "markdown",
      "source": [
        "## To do:\n",
        "\n",
        "* Misleading Sentiment Analysis:\n",
        "Investigate cases where incorrect sentiment analysis techniques are applied to the ChatGPT-related tweets. Analyze how inaccurate sentiment analysis can lead to misinterpretations of the overall sentiment, potentially influencing decision-making based on flawed sentiment analysis results.\n",
        "\n",
        "* Spurious Correlations:\n",
        "Explore instances where incorrect statistical methods lead to spurious correlations among the ChatGPT-related tweets. Identify examples where two variables seem correlated but are not causally related, highlighting how misinterpreting such correlations can lead to erroneous conclusions and decision-making.\n",
        "\n",
        "* Statistical Significance Misuse:\n",
        "Examine cases where incorrect application or interpretation of statistical significance tests are applied to the ChatGPT-related tweets dataset. Analyze how the misuse of significance tests, such as p-values or hypothesis testing, can lead to false claims or unwarranted decisions based on statistical significance.\n",
        "\n",
        "* Sampling Bias in ChatGPT Data:\n",
        "Investigate potential biases in the ChatGPT-related tweets dataset, such as selection bias or coverage bias. Analyze how such biases can affect the generalizability of the findings and influence decision-making based on skewed or unrepresentative data.\n",
        "\n",
        "* Misrepresentation in Visualizations:\n",
        "Analyze instances where misleading visualizations or data representations are used in ChatGPT-related discussions. Investigate how distorted or misrepresented visualizations can mislead interpretations, leading to incorrect conclusions and potentially impacting decision-making processes.\n",
        "\n",
        "* Unvalidated NLP Techniques:\n",
        "Explore the consequences of using unvalidated or flawed NLP techniques in analyzing the ChatGPT-related tweets. Investigate scenarios where incorrect text processing, sentiment analysis algorithms, or topic modeling methods are applied, leading to unreliable results and potentially flawed decision-making.\n",
        "\n",
        "* Overreliance on Outliers:\n",
        "Examine cases where outliers or extreme observations in the ChatGPT-related tweets dataset are given undue influence or misinterpreted. Analyze how overreliance on outliers can lead to biased conclusions and decisions that do not accurately represent the overall trends or patterns in the data.\n"
      ],
      "metadata": {
        "id": "gm2qqFAJC04H"
      }
    },
    {
      "cell_type": "markdown",
      "source": [
        "\n",
        "## Misleading Sentiment Analysis"
      ],
      "metadata": {
        "id": "-cVp5Lus2txC"
      }
    },
    {
      "cell_type": "code",
      "source": [
        "pd.DataFrame(df[\"sentiment_polarity\"].value_counts()).reset_index()[0:20]"
      ],
      "metadata": {
        "colab": {
          "base_uri": "https://localhost:8080/",
          "height": 676
        },
        "id": "aK2fYkWQ3YLZ",
        "outputId": "5e8a86c6-cd11-4236-d8b7-3a60650cc818"
      },
      "execution_count": 11,
      "outputs": [
        {
          "output_type": "execute_result",
          "data": {
            "text/plain": [
              "       index  sentiment_polarity\n",
              "0   0.000000                7370\n",
              "1   0.500000                1082\n",
              "2   0.400000                 551\n",
              "3   0.250000                 523\n",
              "4   0.200000                 471\n",
              "5   0.136364                 361\n",
              "6   0.300000                 330\n",
              "7   0.100000                 317\n",
              "8   1.000000                 263\n",
              "9  -0.200000                 224\n",
              "10  0.375000                 218\n",
              "11 -0.500000                 210\n",
              "12 -0.250000                 200\n",
              "13  0.350000                 197\n",
              "14  0.800000                 193\n",
              "15  0.600000                 180\n",
              "16  0.125000                 155\n",
              "17  0.750000                 135\n",
              "18 -0.400000                 127\n",
              "19 -0.100000                 125"
            ],
            "text/html": [
              "\n",
              "  <div id=\"df-f9e528f0-38e2-46be-abbf-219271cc9b30\">\n",
              "    <div class=\"colab-df-container\">\n",
              "      <div>\n",
              "<style scoped>\n",
              "    .dataframe tbody tr th:only-of-type {\n",
              "        vertical-align: middle;\n",
              "    }\n",
              "\n",
              "    .dataframe tbody tr th {\n",
              "        vertical-align: top;\n",
              "    }\n",
              "\n",
              "    .dataframe thead th {\n",
              "        text-align: right;\n",
              "    }\n",
              "</style>\n",
              "<table border=\"1\" class=\"dataframe\">\n",
              "  <thead>\n",
              "    <tr style=\"text-align: right;\">\n",
              "      <th></th>\n",
              "      <th>index</th>\n",
              "      <th>sentiment_polarity</th>\n",
              "    </tr>\n",
              "  </thead>\n",
              "  <tbody>\n",
              "    <tr>\n",
              "      <th>0</th>\n",
              "      <td>0.000000</td>\n",
              "      <td>7370</td>\n",
              "    </tr>\n",
              "    <tr>\n",
              "      <th>1</th>\n",
              "      <td>0.500000</td>\n",
              "      <td>1082</td>\n",
              "    </tr>\n",
              "    <tr>\n",
              "      <th>2</th>\n",
              "      <td>0.400000</td>\n",
              "      <td>551</td>\n",
              "    </tr>\n",
              "    <tr>\n",
              "      <th>3</th>\n",
              "      <td>0.250000</td>\n",
              "      <td>523</td>\n",
              "    </tr>\n",
              "    <tr>\n",
              "      <th>4</th>\n",
              "      <td>0.200000</td>\n",
              "      <td>471</td>\n",
              "    </tr>\n",
              "    <tr>\n",
              "      <th>5</th>\n",
              "      <td>0.136364</td>\n",
              "      <td>361</td>\n",
              "    </tr>\n",
              "    <tr>\n",
              "      <th>6</th>\n",
              "      <td>0.300000</td>\n",
              "      <td>330</td>\n",
              "    </tr>\n",
              "    <tr>\n",
              "      <th>7</th>\n",
              "      <td>0.100000</td>\n",
              "      <td>317</td>\n",
              "    </tr>\n",
              "    <tr>\n",
              "      <th>8</th>\n",
              "      <td>1.000000</td>\n",
              "      <td>263</td>\n",
              "    </tr>\n",
              "    <tr>\n",
              "      <th>9</th>\n",
              "      <td>-0.200000</td>\n",
              "      <td>224</td>\n",
              "    </tr>\n",
              "    <tr>\n",
              "      <th>10</th>\n",
              "      <td>0.375000</td>\n",
              "      <td>218</td>\n",
              "    </tr>\n",
              "    <tr>\n",
              "      <th>11</th>\n",
              "      <td>-0.500000</td>\n",
              "      <td>210</td>\n",
              "    </tr>\n",
              "    <tr>\n",
              "      <th>12</th>\n",
              "      <td>-0.250000</td>\n",
              "      <td>200</td>\n",
              "    </tr>\n",
              "    <tr>\n",
              "      <th>13</th>\n",
              "      <td>0.350000</td>\n",
              "      <td>197</td>\n",
              "    </tr>\n",
              "    <tr>\n",
              "      <th>14</th>\n",
              "      <td>0.800000</td>\n",
              "      <td>193</td>\n",
              "    </tr>\n",
              "    <tr>\n",
              "      <th>15</th>\n",
              "      <td>0.600000</td>\n",
              "      <td>180</td>\n",
              "    </tr>\n",
              "    <tr>\n",
              "      <th>16</th>\n",
              "      <td>0.125000</td>\n",
              "      <td>155</td>\n",
              "    </tr>\n",
              "    <tr>\n",
              "      <th>17</th>\n",
              "      <td>0.750000</td>\n",
              "      <td>135</td>\n",
              "    </tr>\n",
              "    <tr>\n",
              "      <th>18</th>\n",
              "      <td>-0.400000</td>\n",
              "      <td>127</td>\n",
              "    </tr>\n",
              "    <tr>\n",
              "      <th>19</th>\n",
              "      <td>-0.100000</td>\n",
              "      <td>125</td>\n",
              "    </tr>\n",
              "  </tbody>\n",
              "</table>\n",
              "</div>\n",
              "      <button class=\"colab-df-convert\" onclick=\"convertToInteractive('df-f9e528f0-38e2-46be-abbf-219271cc9b30')\"\n",
              "              title=\"Convert this dataframe to an interactive table.\"\n",
              "              style=\"display:none;\">\n",
              "        \n",
              "  <svg xmlns=\"http://www.w3.org/2000/svg\" height=\"24px\"viewBox=\"0 0 24 24\"\n",
              "       width=\"24px\">\n",
              "    <path d=\"M0 0h24v24H0V0z\" fill=\"none\"/>\n",
              "    <path d=\"M18.56 5.44l.94 2.06.94-2.06 2.06-.94-2.06-.94-.94-2.06-.94 2.06-2.06.94zm-11 1L8.5 8.5l.94-2.06 2.06-.94-2.06-.94L8.5 2.5l-.94 2.06-2.06.94zm10 10l.94 2.06.94-2.06 2.06-.94-2.06-.94-.94-2.06-.94 2.06-2.06.94z\"/><path d=\"M17.41 7.96l-1.37-1.37c-.4-.4-.92-.59-1.43-.59-.52 0-1.04.2-1.43.59L10.3 9.45l-7.72 7.72c-.78.78-.78 2.05 0 2.83L4 21.41c.39.39.9.59 1.41.59.51 0 1.02-.2 1.41-.59l7.78-7.78 2.81-2.81c.8-.78.8-2.07 0-2.86zM5.41 20L4 18.59l7.72-7.72 1.47 1.35L5.41 20z\"/>\n",
              "  </svg>\n",
              "      </button>\n",
              "      \n",
              "  <style>\n",
              "    .colab-df-container {\n",
              "      display:flex;\n",
              "      flex-wrap:wrap;\n",
              "      gap: 12px;\n",
              "    }\n",
              "\n",
              "    .colab-df-convert {\n",
              "      background-color: #E8F0FE;\n",
              "      border: none;\n",
              "      border-radius: 50%;\n",
              "      cursor: pointer;\n",
              "      display: none;\n",
              "      fill: #1967D2;\n",
              "      height: 32px;\n",
              "      padding: 0 0 0 0;\n",
              "      width: 32px;\n",
              "    }\n",
              "\n",
              "    .colab-df-convert:hover {\n",
              "      background-color: #E2EBFA;\n",
              "      box-shadow: 0px 1px 2px rgba(60, 64, 67, 0.3), 0px 1px 3px 1px rgba(60, 64, 67, 0.15);\n",
              "      fill: #174EA6;\n",
              "    }\n",
              "\n",
              "    [theme=dark] .colab-df-convert {\n",
              "      background-color: #3B4455;\n",
              "      fill: #D2E3FC;\n",
              "    }\n",
              "\n",
              "    [theme=dark] .colab-df-convert:hover {\n",
              "      background-color: #434B5C;\n",
              "      box-shadow: 0px 1px 3px 1px rgba(0, 0, 0, 0.15);\n",
              "      filter: drop-shadow(0px 1px 2px rgba(0, 0, 0, 0.3));\n",
              "      fill: #FFFFFF;\n",
              "    }\n",
              "  </style>\n",
              "\n",
              "      <script>\n",
              "        const buttonEl =\n",
              "          document.querySelector('#df-f9e528f0-38e2-46be-abbf-219271cc9b30 button.colab-df-convert');\n",
              "        buttonEl.style.display =\n",
              "          google.colab.kernel.accessAllowed ? 'block' : 'none';\n",
              "\n",
              "        async function convertToInteractive(key) {\n",
              "          const element = document.querySelector('#df-f9e528f0-38e2-46be-abbf-219271cc9b30');\n",
              "          const dataTable =\n",
              "            await google.colab.kernel.invokeFunction('convertToInteractive',\n",
              "                                                     [key], {});\n",
              "          if (!dataTable) return;\n",
              "\n",
              "          const docLinkHtml = 'Like what you see? Visit the ' +\n",
              "            '<a target=\"_blank\" href=https://colab.research.google.com/notebooks/data_table.ipynb>data table notebook</a>'\n",
              "            + ' to learn more about interactive tables.';\n",
              "          element.innerHTML = '';\n",
              "          dataTable['output_type'] = 'display_data';\n",
              "          await google.colab.output.renderOutput(dataTable, element);\n",
              "          const docLink = document.createElement('div');\n",
              "          docLink.innerHTML = docLinkHtml;\n",
              "          element.appendChild(docLink);\n",
              "        }\n",
              "      </script>\n",
              "    </div>\n",
              "  </div>\n",
              "  "
            ]
          },
          "metadata": {},
          "execution_count": 11
        }
      ]
    },
    {
      "cell_type": "code",
      "source": [
        "pd.DataFrame(df[\"sentiment_polarity\"].value_counts()).reset_index()[0:20].plot(kind='bar',x='index',y='sentiment_polarity',title=\"Sentiment polarity for tweets about Chatgpt\",figsize=(3,3))\n"
      ],
      "metadata": {
        "colab": {
          "base_uri": "https://localhost:8080/",
          "height": 500
        },
        "id": "ZE8D3Kfj3Bbn",
        "outputId": "aed6e6ee-5346-4b15-a4d3-439610a97864"
      },
      "execution_count": 12,
      "outputs": [
        {
          "output_type": "execute_result",
          "data": {
            "text/plain": [
              "<Axes: title={'center': 'Sentiment polarity for tweets about Chatgpt'}, xlabel='index'>"
            ]
          },
          "metadata": {},
          "execution_count": 12
        },
        {
          "output_type": "display_data",
          "data": {
            "text/plain": [
              "<Figure size 300x300 with 1 Axes>"
            ],
            "image/png": "[encoded data removed]"
          },
          "metadata": {}
        }
      ]
    },
    {
      "cell_type": "code",
      "source": [
        "from tabulate import tabulate\n",
        "# pd.set_option('display.max_colwidth', 10)\n",
        "pd.set_option('display.max_colwidth', 20)\n",
        "\n",
        "\n",
        "table = tabulate(df[df[\"sentiment_polarity\"]==0.0][[\"sentiment\",\"sentiment_polarity\",\"text\"]][60:70], headers=['sentiment','sentiment_polarity','Sentences'], tablefmt='fancy_grid')\n",
        "print(table)\n"
      ],
      "metadata": {
        "colab": {
          "base_uri": "https://localhost:8080/"
        },
        "id": "Ih-QklzV544g",
        "outputId": "c44e3ff5-5182-4788-a052-ce65a46368a0"
      },
      "execution_count": 13,
      "outputs": [
        {
          "output_type": "stream",
          "name": "stdout",
          "text": [
            "╒═════╤═════════════╤══════════════════════╤═════════════════════════════════════════════════════════════════════════════════════════════════════════════════════════════════════════════════════════════════════════════════════════════════════════════════════════════════════════════════╕\n",
            "│     │ sentiment   │   sentiment_polarity │ Sentences                                                                                                                                                                                                                                       │\n",
            "╞═════╪═════════════╪══════════════════════╪═════════════════════════════════════════════════════════════════════════════════════════════════════════════════════════════════════════════════════════════════════════════════════════════════════════════════════════════════════════════════╡\n",
            "│ 307 │ positive    │                    0 │ RT @AngryTomtweets: 15 AI tools for solopreneurs:                                                                                                                                                                                               │\n",
            "│     │             │                      │                                                                                                                                                                                                                                                 │\n",
            "│     │             │                      │ 1. Tome                                                                                                                                                                                                                                         │\n",
            "│     │             │                      │ 2. Movio                                                                                                                                                                                                                                        │\n",
            "│     │             │                      │ 3. Krisp AI                                                                                                                                                                                                                                     │\n",
            "│     │             │                      │ 4. Fireflies                                                                                                                                                                                                                                    │\n",
            "│     │             │                      │ 5. Slides AI                                                                                                                                                                                                                                    │\n",
            "│     │             │                      │ 6. Taskade                                                                                                                                                                                                                                      │\n",
            "│     │             │                      │ 7. ChatPDF                                                                                                                                                                                                                                      │\n",
            "│     │             │                      │ 8. ChatGPT…                                                                                                                                                                                                                                     │\n",
            "├─────┼─────────────┼──────────────────────┼─────────────────────────────────────────────────────────────────────────────────────────────────────────────────────────────────────────────────────────────────────────────────────────────────────────────────────────────────────────────────┤\n",
            "│ 308 │ positive    │                    0 │ RT @davisblalock: Imagine a world where keyboards only let you type sentences that the keyboard manufacturer agrees with.                                                                                                                       │\n",
            "│     │             │                      │                                                                                                                                                                                                                                                 │\n",
            "│     │             │                      │ Or where spellch…                                                                                                                                                                                                                               │\n",
            "├─────┼─────────────┼──────────────────────┼─────────────────────────────────────────────────────────────────────────────────────────────────────────────────────────────────────────────────────────────────────────────────────────────────────────────────────────────────────────────────┤\n",
            "│ 309 │ positive    │                    0 │ 🔥Hey Guys, #ZenithSwap has launched at just $ 55,000 USD Marketcap. The ChatGPT of DEX - Reimagining DeFi with AI-Powered Yield Farming. Now at 4X. Lot of up potential at such low marketcap.🔥😇 $ARB $ZSP #Arbitrum https://t.co/xQViKQsNoh │\n",
            "├─────┼─────────────┼──────────────────────┼─────────────────────────────────────────────────────────────────────────────────────────────────────────────────────────────────────────────────────────────────────────────────────────────────────────────────────────────────────────────────┤\n",
            "│ 311 │ positive    │                    0 │ RT @DataChaz: The rise of the #ChatGPT Developer! 😁 https://t.co/xUqSGPcVQd                                                                                                                                                                    │\n",
            "├─────┼─────────────┼──────────────────────┼─────────────────────────────────────────────────────────────────────────────────────────────────────────────────────────────────────────────────────────────────────────────────────────────────────────────────────────────────────────────────┤\n",
            "│ 328 │ positive    │                    0 │ 🔥Hey Guys, #ZenithSwap has launched at just $ 55,000 USD Marketcap. The ChatGPT of DEX - Reimagining DeFi with AI-Powered Yield Farming. Now at 4X. Lot of up potential at such low marketcap.🔥😇 $ARB $ZSP #Arbitrum https://t.co/uO5uElKkM1 │\n",
            "├─────┼─────────────┼──────────────────────┼─────────────────────────────────────────────────────────────────────────────────────────────────────────────────────────────────────────────────────────────────────────────────────────────────────────────────────────────────────────────────┤\n",
            "│ 336 │ positive    │                    0 │ RT @shushant_l: 15 AI tools for solopreneurs:                                                                                                                                                                                                   │\n",
            "│     │             │                      │                                                                                                                                                                                                                                                 │\n",
            "│     │             │                      │ 1. ChatGPT                                                                                                                                                                                                                                      │\n",
            "│     │             │                      │ 2. Midjourney                                                                                                                                                                                                                                   │\n",
            "│     │             │                      │ 3. Headshot Pro                                                                                                                                                                                                                                 │\n",
            "│     │             │                      │ 4. ChatPDF                                                                                                                                                                                                                                      │\n",
            "│     │             │                      │ 5. Lex                                                                                                                                                                                                                                          │\n",
            "│     │             │                      │ 6. Taskade                                                                                                                                                                                                                                      │\n",
            "│     │             │                      │ 7. GPT For Sheets                                                                                                                                                                                                                               │\n",
            "│     │             │                      │ 8. M…                                                                                                                                                                                                                                           │\n",
            "├─────┼─────────────┼──────────────────────┼─────────────────────────────────────────────────────────────────────────────────────────────────────────────────────────────────────────────────────────────────────────────────────────────────────────────────────────────────────────────────┤\n",
            "│ 339 │ positive    │                    0 │ RT @PearceAlan1962: I asked the ChatGPT bot for visual evidence that Klaus Schwab is a shapeshifting reptile and the bot sent me this: http…                                                                                                    │\n",
            "├─────┼─────────────┼──────────────────────┼─────────────────────────────────────────────────────────────────────────────────────────────────────────────────────────────────────────────────────────────────────────────────────────────────────────────────────────────────────────────────┤\n",
            "│ 340 │ positive    │                    0 │ RT @chpgbg470341: Premium Account~                                                                                                                                                                                                              │\n",
            "│     │             │                      │                                                                                                                                                                                                                                                 │\n",
            "│     │             │                      │ 🪄 Spotify, Netflix acc ph, Grammarly, Canva pro, Spotify, Quillbot, Viu, Scribd, Vsco, Coursehero unl…                                                                                                                                         │\n",
            "├─────┼─────────────┼──────────────────────┼─────────────────────────────────────────────────────────────────────────────────────────────────────────────────────────────────────────────────────────────────────────────────────────────────────────────────────────────────────────────────┤\n",
            "│ 347 │ positive    │                    0 │ 🔥Hey Guys, #ZenithSwap has launched at just $ 55,000 USD Marketcap. The ChatGPT of DEX - Reimagining DeFi with AI-Powered Yield Farming. Now at 4X. Lot of up potential at such low marketcap.🔥😇 $ARB $ZSP #Arbitrum https://t.co/1UbdAbIuYw │\n",
            "├─────┼─────────────┼──────────────────────┼─────────────────────────────────────────────────────────────────────────────────────────────────────────────────────────────────────────────────────────────────────────────────────────────────────────────────────────────────────────────────┤\n",
            "│ 351 │ positive    │                    0 │ 🔥Hey Guys, #ZenithSwap has launched at just $ 55,000 USD Marketcap. The ChatGPT of DEX - Reimagining DeFi with AI-Powered Yield Farming. Now at 4X. Lot of up potential at such low marketcap.🔥😇 $ARB $ZSP #Arbitrum https://t.co/HaZT1k07y3 │\n",
            "╘═════╧═════════════╧══════════════════════╧═════════════════════════════════════════════════════════════════════════════════════════════════════════════════════════════════════════════════════════════════════════════════════════════════════════════════════════════════════════════════╛\n"
          ]
        }
      ]
    },
    {
      "cell_type": "markdown",
      "source": [
        " ## **Based on the provided table, it becomes evident that the sentiment analysis results are misleading. This is due to the fact that a sentiment polarity score of 0 is considered positive, whereas upon closer examination of the corresponding text, it is apparent that the sentiment is actually neutral or even irrelevant.**"
      ],
      "metadata": {
        "id": "ISk2T-oG8Z-h"
      }
    },
    {
      "cell_type": "code",
      "source": [
        "print(\"The length of the dataset: \" + str(len(df)))\n",
        "print(\"The count of tweets with zero sentiment polarity (Neutral sentiments): \" + str(len(df[df[\"sentiment_polarity\"]==0.0])))\n",
        "\n",
        "print(\"The percentage of tweets with zero sentiment polarity (Neutral sentiments): \" + str(int(len(df[df[\"sentiment_polarity\"]==0.0])/len(df)*100))+\"%\")\n"
      ],
      "metadata": {
        "colab": {
          "base_uri": "https://localhost:8080/"
        },
        "id": "C8QhhNvR8a61",
        "outputId": "28435c88-1991-4262-fbe4-d652837684b7"
      },
      "execution_count": 14,
      "outputs": [
        {
          "output_type": "stream",
          "name": "stdout",
          "text": [
            "The length of the dataset: 20545\n",
            "The count of tweets with zero sentiment polarity (Neutral sentiments): 7370\n",
            "The percentage of tweets with zero sentiment polarity (Neutral sentiments): 35%\n"
          ]
        }
      ]
    },
    {
      "cell_type": "code",
      "source": [
        "df = df[df[\"sentiment_polarity\"] != 0.0]"
      ],
      "metadata": {
        "id": "gIhpQcxMf0eK"
      },
      "execution_count": 15,
      "outputs": []
    },
    {
      "cell_type": "code",
      "source": [
        "df[\"sentiment\"].value_counts()"
      ],
      "metadata": {
        "colab": {
          "base_uri": "https://localhost:8080/"
        },
        "id": "tPUHeoHmgKAH",
        "outputId": "3825c700-cd73-45dd-9c7d-41c34fefd092"
      },
      "execution_count": 16,
      "outputs": [
        {
          "output_type": "execute_result",
          "data": {
            "text/plain": [
              "positive    10044\n",
              "negative     3131\n",
              "Name: sentiment, dtype: int64"
            ]
          },
          "metadata": {},
          "execution_count": 16
        }
      ]
    },
    {
      "cell_type": "code",
      "source": [
        "df[\"sentiment\"].value_counts().plot(kind='pie', autopct='%1.1f%%',title=\"Sentiment Analysis for tweets about Chatgpt\",figsize=(3,3))\n"
      ],
      "metadata": {
        "colab": {
          "base_uri": "https://localhost:8080/",
          "height": 308
        },
        "id": "NmsfGs7QlLRk",
        "outputId": "56e48ff6-a49a-4ca7-b4fd-dc967b1a87f6"
      },
      "execution_count": 17,
      "outputs": [
        {
          "output_type": "execute_result",
          "data": {
            "text/plain": [
              "<Axes: title={'center': 'Sentiment Analysis for tweets about Chatgpt'}, ylabel='sentiment'>"
            ]
          },
          "metadata": {},
          "execution_count": 17
        },
        {
          "output_type": "display_data",
          "data": {
            "text/plain": [
              "<Figure size 300x300 with 1 Axes>"
            ],
            "image/png": "[encoded data removed]"
          },
          "metadata": {}
        }
      ]
    },
    {
      "cell_type": "markdown",
      "source": [
        "\n",
        "# After Droping the misclassified sentiments, the percentage of good reviews decreased to be 76%!\n",
        "\n",
        "\n",
        "---\n",
        "\n",
        "\n",
        "\n",
        "\n"
      ],
      "metadata": {
        "id": "xN-SJ9KFlb2x"
      }
    },
    {
      "cell_type": "markdown",
      "source": [
        "# Sampling Bias in ChatGPT Data:\n",
        "The data biases can affect the generalizability of the findings and influence decision-making based on skewed or unrepresentative data.\n"
      ],
      "metadata": {
        "id": "fks-LJ1vq93K"
      }
    },
    {
      "cell_type": "code",
      "source": [
        "df[\"user_location\"].value_counts()[50:80]"
      ],
      "metadata": {
        "colab": {
          "base_uri": "https://localhost:8080/"
        },
        "id": "ph36VNZxme5n",
        "outputId": "2afc11fb-fe5e-4a7a-cc72-72336ad11415"
      },
      "execution_count": 18,
      "outputs": [
        {
          "output_type": "execute_result",
          "data": {
            "text/plain": [
              "東京都                        13\n",
              "Abuja, Nigeria             13\n",
              "California                 13\n",
              "Miami, FL                  13\n",
              "Berlin, Germany            13\n",
              "Malaysia                   13\n",
              "Berlin                     13\n",
              "Mexico                     13\n",
              "Philadelphia, PA           13\n",
              "New Delhi, India           12\n",
              "日本 東京                      12\n",
              "Kenya                      12\n",
              "Bengaluru, India           12\n",
              "Houston, TX                12\n",
              "San Francisco              11\n",
              "Florida, USA               11\n",
              "Chicago                    11\n",
              "Dallas, TX                 11\n",
              "Worldwide                  11\n",
              "Montréal, Québec           11\n",
              "Brasil                     11\n",
              "Manchester, UK             11\n",
              "Colombia                   11\n",
              "España                     11\n",
              "London, UK                 10\n",
              "Ireland                    10\n",
              "Atlanta, GA                10\n",
              "Cape Town, South Africa    10\n",
              "Dubai                      10\n",
              "São Paulo, Brasil          10\n",
              "Name: user_location, dtype: int64"
            ]
          },
          "metadata": {},
          "execution_count": 18
        }
      ]
    },
    {
      "cell_type": "code",
      "source": [
        "df[df[\"user_location\"] == \"Chicago\"][\"sentiment\"].value_counts()"
      ],
      "metadata": {
        "colab": {
          "base_uri": "https://localhost:8080/"
        },
        "id": "GQaB7fzpm7t6",
        "outputId": "58bbf506-6480-4af5-c10d-5ec4a33af35d"
      },
      "execution_count": 19,
      "outputs": [
        {
          "output_type": "execute_result",
          "data": {
            "text/plain": [
              "positive    10\n",
              "negative     1\n",
              "Name: sentiment, dtype: int64"
            ]
          },
          "metadata": {},
          "execution_count": 19
        }
      ]
    },
    {
      "cell_type": "code",
      "source": [
        "\n",
        "df[df[\"user_location\"] == \"Brooklyn, NY\"][\"sentiment\"].value_counts()"
      ],
      "metadata": {
        "colab": {
          "base_uri": "https://localhost:8080/"
        },
        "id": "iMLsva_yvRsv",
        "outputId": "3eac62d1-b71a-4610-e452-acbc0c36a3d2"
      },
      "execution_count": 20,
      "outputs": [
        {
          "output_type": "execute_result",
          "data": {
            "text/plain": [
              "negative    10\n",
              "positive     5\n",
              "Name: sentiment, dtype: int64"
            ]
          },
          "metadata": {},
          "execution_count": 20
        }
      ]
    },
    {
      "cell_type": "markdown",
      "source": [
        "# Misleading Conclusion: If we only considered the sentiment distribution within the subset of reviews from Chicago, it might lead to a potentially misleading conclusion that the majority of people in Chicago have positive reviews about ChatGPT (90% positive sentiment). However, this conclusion should be approached with caution due to the following factors.\n",
        "\n",
        "1. Sample Size: The total count of reviews from users in Chicago is only 11, which represents a very small portion (0.05%) of the entire dataset. Drawing broad conclusions based on such a small sample size may not be representative of the overall sentiment of people in Chicago or the general population.\n",
        "\n",
        "2. Limited Generalizability: It's important to recognize that the sentiment distribution among users in Chicago may not reflect the sentiment of users from other locations or the broader user base. Therefore, making decisions solely based on this subset of reviews from Chicago may result in inaccurate generalizations.\n",
        "\n",
        "In summary, while the sentiment distribution among Chicago users appears to be predominantly positive, the small sample size and limited generalizability highlight the need for a cautious interpretation. It emphasizes the importance of using appropriate statistical methods, considering larger and more representative datasets, and avoiding making sweeping conclusions based on limited or biased samples."
      ],
      "metadata": {
        "id": "VeGKYuiHthDU"
      }
    },
    {
      "cell_type": "markdown",
      "source": [
        "from the above table we can tell that all the reviews"
      ],
      "metadata": {
        "id": "ChqCX-58rTfC"
      }
    },
    {
      "cell_type": "code",
      "source": [
        "df[['user_location'\t,'sentiment','tweet_id']].groupby(['user_location','sentiment']).count().reset_index().sort_values(by=\"tweet_id\",ascending = False)[59:63]"
      ],
      "metadata": {
        "colab": {
          "base_uri": "https://localhost:8080/",
          "height": 174
        },
        "id": "ve6x38iZq2HD",
        "outputId": "b29f2ff7-fb97-4dce-bf58-d93e819133f8"
      },
      "execution_count": 21,
      "outputs": [
        {
          "output_type": "execute_result",
          "data": {
            "text/plain": [
              "           user_location sentiment  tweet_id\n",
              "742              Chicago  positive        10\n",
              "683  Cape Town, South...  positive        10\n",
              "584         Brooklyn, NY  negative        10\n",
              "653           California  positive        10"
            ],
            "text/html": [
              "\n",
              "  <div id=\"df-385e72d1-4eef-4312-8037-fd113bb5d14f\">\n",
              "    <div class=\"colab-df-container\">\n",
              "      <div>\n",
              "<style scoped>\n",
              "    .dataframe tbody tr th:only-of-type {\n",
              "        vertical-align: middle;\n",
              "    }\n",
              "\n",
              "    .dataframe tbody tr th {\n",
              "        vertical-align: top;\n",
              "    }\n",
              "\n",
              "    .dataframe thead th {\n",
              "        text-align: right;\n",
              "    }\n",
              "</style>\n",
              "<table border=\"1\" class=\"dataframe\">\n",
              "  <thead>\n",
              "    <tr style=\"text-align: right;\">\n",
              "      <th></th>\n",
              "      <th>user_location</th>\n",
              "      <th>sentiment</th>\n",
              "      <th>tweet_id</th>\n",
              "    </tr>\n",
              "  </thead>\n",
              "  <tbody>\n",
              "    <tr>\n",
              "      <th>742</th>\n",
              "      <td>Chicago</td>\n",
              "      <td>positive</td>\n",
              "      <td>10</td>\n",
              "    </tr>\n",
              "    <tr>\n",
              "      <th>683</th>\n",
              "      <td>Cape Town, South...</td>\n",
              "      <td>positive</td>\n",
              "      <td>10</td>\n",
              "    </tr>\n",
              "    <tr>\n",
              "      <th>584</th>\n",
              "      <td>Brooklyn, NY</td>\n",
              "      <td>negative</td>\n",
              "      <td>10</td>\n",
              "    </tr>\n",
              "    <tr>\n",
              "      <th>653</th>\n",
              "      <td>California</td>\n",
              "      <td>positive</td>\n",
              "      <td>10</td>\n",
              "    </tr>\n",
              "  </tbody>\n",
              "</table>\n",
              "</div>\n",
              "      <button class=\"colab-df-convert\" onclick=\"convertToInteractive('df-385e72d1-4eef-4312-8037-fd113bb5d14f')\"\n",
              "              title=\"Convert this dataframe to an interactive table.\"\n",
              "              style=\"display:none;\">\n",
              "        \n",
              "  <svg xmlns=\"http://www.w3.org/2000/svg\" height=\"24px\"viewBox=\"0 0 24 24\"\n",
              "       width=\"24px\">\n",
              "    <path d=\"M0 0h24v24H0V0z\" fill=\"none\"/>\n",
              "    <path d=\"M18.56 5.44l.94 2.06.94-2.06 2.06-.94-2.06-.94-.94-2.06-.94 2.06-2.06.94zm-11 1L8.5 8.5l.94-2.06 2.06-.94-2.06-.94L8.5 2.5l-.94 2.06-2.06.94zm10 10l.94 2.06.94-2.06 2.06-.94-2.06-.94-.94-2.06-.94 2.06-2.06.94z\"/><path d=\"M17.41 7.96l-1.37-1.37c-.4-.4-.92-.59-1.43-.59-.52 0-1.04.2-1.43.59L10.3 9.45l-7.72 7.72c-.78.78-.78 2.05 0 2.83L4 21.41c.39.39.9.59 1.41.59.51 0 1.02-.2 1.41-.59l7.78-7.78 2.81-2.81c.8-.78.8-2.07 0-2.86zM5.41 20L4 18.59l7.72-7.72 1.47 1.35L5.41 20z\"/>\n",
              "  </svg>\n",
              "      </button>\n",
              "      \n",
              "  <style>\n",
              "    .colab-df-container {\n",
              "      display:flex;\n",
              "      flex-wrap:wrap;\n",
              "      gap: 12px;\n",
              "    }\n",
              "\n",
              "    .colab-df-convert {\n",
              "      background-color: #E8F0FE;\n",
              "      border: none;\n",
              "      border-radius: 50%;\n",
              "      cursor: pointer;\n",
              "      display: none;\n",
              "      fill: #1967D2;\n",
              "      height: 32px;\n",
              "      padding: 0 0 0 0;\n",
              "      width: 32px;\n",
              "    }\n",
              "\n",
              "    .colab-df-convert:hover {\n",
              "      background-color: #E2EBFA;\n",
              "      box-shadow: 0px 1px 2px rgba(60, 64, 67, 0.3), 0px 1px 3px 1px rgba(60, 64, 67, 0.15);\n",
              "      fill: #174EA6;\n",
              "    }\n",
              "\n",
              "    [theme=dark] .colab-df-convert {\n",
              "      background-color: #3B4455;\n",
              "      fill: #D2E3FC;\n",
              "    }\n",
              "\n",
              "    [theme=dark] .colab-df-convert:hover {\n",
              "      background-color: #434B5C;\n",
              "      box-shadow: 0px 1px 3px 1px rgba(0, 0, 0, 0.15);\n",
              "      filter: drop-shadow(0px 1px 2px rgba(0, 0, 0, 0.3));\n",
              "      fill: #FFFFFF;\n",
              "    }\n",
              "  </style>\n",
              "\n",
              "      <script>\n",
              "        const buttonEl =\n",
              "          document.querySelector('#df-385e72d1-4eef-4312-8037-fd113bb5d14f button.colab-df-convert');\n",
              "        buttonEl.style.display =\n",
              "          google.colab.kernel.accessAllowed ? 'block' : 'none';\n",
              "\n",
              "        async function convertToInteractive(key) {\n",
              "          const element = document.querySelector('#df-385e72d1-4eef-4312-8037-fd113bb5d14f');\n",
              "          const dataTable =\n",
              "            await google.colab.kernel.invokeFunction('convertToInteractive',\n",
              "                                                     [key], {});\n",
              "          if (!dataTable) return;\n",
              "\n",
              "          const docLinkHtml = 'Like what you see? Visit the ' +\n",
              "            '<a target=\"_blank\" href=https://colab.research.google.com/notebooks/data_table.ipynb>data table notebook</a>'\n",
              "            + ' to learn more about interactive tables.';\n",
              "          element.innerHTML = '';\n",
              "          dataTable['output_type'] = 'display_data';\n",
              "          await google.colab.output.renderOutput(dataTable, element);\n",
              "          const docLink = document.createElement('div');\n",
              "          docLink.innerHTML = docLinkHtml;\n",
              "          element.appendChild(docLink);\n",
              "        }\n",
              "      </script>\n",
              "    </div>\n",
              "  </div>\n",
              "  "
            ]
          },
          "metadata": {},
          "execution_count": 21
        }
      ]
    },
    {
      "cell_type": "markdown",
      "source": [
        "## Duplicate Data is misleading"
      ],
      "metadata": {
        "id": "MzZpDUiD0Eup"
      }
    },
    {
      "cell_type": "code",
      "source": [
        "# df[df[\"cleaned_text\"].duplicated()][0:10]\n",
        "df[df.text.str.startswith('RT', na=False)][1:5]"
      ],
      "metadata": {
        "colab": {
          "base_uri": "https://localhost:8080/",
          "height": 407
        },
        "id": "nueFFsdy0EA4",
        "outputId": "9785db80-744f-45d6-f196-e86de64fe995"
      },
      "execution_count": 22,
      "outputs": [
        {
          "output_type": "execute_result",
          "data": {
            "text/plain": [
              "               tweet_id        tweet_created      tweet_extracted  \\\n",
              "11  1.64279894164441...  2023-04-03 07:59...  2023-04-08 01:06...   \n",
              "15  1.64284438609750...  2023-04-03 10:59...  2023-04-08 01:06...   \n",
              "16  1.64293487988413...  2023-04-03 16:59...  2023-04-08 01:07...   \n",
              "17  1.64273859794083...  2023-04-03 03:59...  2023-04-08 01:06...   \n",
              "\n",
              "                   text lang              user_id    user_name  user_username  \\\n",
              "11  RT @cz_binance: ...   en           2962446790    🤨Anthony👽  doganruzgar77   \n",
              "15  RT @JakeSucky: T...   en  1146047167284547586     CatalinZ      qCatalinZ   \n",
              "16  RT @jessicard: i...   en             19026321  Jay Spanton         Spanty   \n",
              "17  RT @jbrowder1: I...   en           4587704414  Gian Marcos  GianMarcosMer   \n",
              "\n",
              "         user_location     user_description  ... user_tweet_count  \\\n",
              "11                 NaN                  NaN  ...             46.0   \n",
              "15                 NaN     aw shit | wardog  ...            857.0   \n",
              "16  Kingsbridge, Devon  Researcher/ desi...  ...           5568.0   \n",
              "17                 NaN  Web Designer in ...  ...          20564.0   \n",
              "\n",
              "    user_verified  source  retweet_count like_count  reply_count  \\\n",
              "11          False     NaN         4009.0        0.0          0.0   \n",
              "15          False     NaN          504.0        0.0          0.0   \n",
              "16          False     NaN         7655.0        0.0          0.0   \n",
              "17          False     NaN         1730.0        0.0          0.0   \n",
              "\n",
              "    impression_count         cleaned_text  sentiment_polarity  sentiment  \n",
              "11               0.0  rt  chatgpt gt f...            0.200000   positive  \n",
              "15               0.0  rt  these guys a...            0.333333   positive  \n",
              "16               0.0  rt  i hooked up ...           -0.700000   negative  \n",
              "17               0.0  rt  i asked the ...            0.136364   positive  \n",
              "\n",
              "[4 rows x 23 columns]"
            ],
            "text/html": [
              "\n",
              "  <div id=\"df-95b03c06-0ee1-429b-9636-be8924a76b40\">\n",
              "    <div class=\"colab-df-container\">\n",
              "      <div>\n",
              "<style scoped>\n",
              "    .dataframe tbody tr th:only-of-type {\n",
              "        vertical-align: middle;\n",
              "    }\n",
              "\n",
              "    .dataframe tbody tr th {\n",
              "        vertical-align: top;\n",
              "    }\n",
              "\n",
              "    .dataframe thead th {\n",
              "        text-align: right;\n",
              "    }\n",
              "</style>\n",
              "<table border=\"1\" class=\"dataframe\">\n",
              "  <thead>\n",
              "    <tr style=\"text-align: right;\">\n",
              "      <th></th>\n",
              "      <th>tweet_id</th>\n",
              "      <th>tweet_created</th>\n",
              "      <th>tweet_extracted</th>\n",
              "      <th>text</th>\n",
              "      <th>lang</th>\n",
              "      <th>user_id</th>\n",
              "      <th>user_name</th>\n",
              "      <th>user_username</th>\n",
              "      <th>user_location</th>\n",
              "      <th>user_description</th>\n",
              "      <th>...</th>\n",
              "      <th>user_tweet_count</th>\n",
              "      <th>user_verified</th>\n",
              "      <th>source</th>\n",
              "      <th>retweet_count</th>\n",
              "      <th>like_count</th>\n",
              "      <th>reply_count</th>\n",
              "      <th>impression_count</th>\n",
              "      <th>cleaned_text</th>\n",
              "      <th>sentiment_polarity</th>\n",
              "      <th>sentiment</th>\n",
              "    </tr>\n",
              "  </thead>\n",
              "  <tbody>\n",
              "    <tr>\n",
              "      <th>11</th>\n",
              "      <td>1.64279894164441...</td>\n",
              "      <td>2023-04-03 07:59...</td>\n",
              "      <td>2023-04-08 01:06...</td>\n",
              "      <td>RT @cz_binance: ...</td>\n",
              "      <td>en</td>\n",
              "      <td>2962446790</td>\n",
              "      <td>🤨Anthony👽</td>\n",
              "      <td>doganruzgar77</td>\n",
              "      <td>NaN</td>\n",
              "      <td>NaN</td>\n",
              "      <td>...</td>\n",
              "      <td>46.0</td>\n",
              "      <td>False</td>\n",
              "      <td>NaN</td>\n",
              "      <td>4009.0</td>\n",
              "      <td>0.0</td>\n",
              "      <td>0.0</td>\n",
              "      <td>0.0</td>\n",
              "      <td>rt  chatgpt gt f...</td>\n",
              "      <td>0.200000</td>\n",
              "      <td>positive</td>\n",
              "    </tr>\n",
              "    <tr>\n",
              "      <th>15</th>\n",
              "      <td>1.64284438609750...</td>\n",
              "      <td>2023-04-03 10:59...</td>\n",
              "      <td>2023-04-08 01:06...</td>\n",
              "      <td>RT @JakeSucky: T...</td>\n",
              "      <td>en</td>\n",
              "      <td>1146047167284547586</td>\n",
              "      <td>CatalinZ</td>\n",
              "      <td>qCatalinZ</td>\n",
              "      <td>NaN</td>\n",
              "      <td>aw shit | wardog</td>\n",
              "      <td>...</td>\n",
              "      <td>857.0</td>\n",
              "      <td>False</td>\n",
              "      <td>NaN</td>\n",
              "      <td>504.0</td>\n",
              "      <td>0.0</td>\n",
              "      <td>0.0</td>\n",
              "      <td>0.0</td>\n",
              "      <td>rt  these guys a...</td>\n",
              "      <td>0.333333</td>\n",
              "      <td>positive</td>\n",
              "    </tr>\n",
              "    <tr>\n",
              "      <th>16</th>\n",
              "      <td>1.64293487988413...</td>\n",
              "      <td>2023-04-03 16:59...</td>\n",
              "      <td>2023-04-08 01:07...</td>\n",
              "      <td>RT @jessicard: i...</td>\n",
              "      <td>en</td>\n",
              "      <td>19026321</td>\n",
              "      <td>Jay Spanton</td>\n",
              "      <td>Spanty</td>\n",
              "      <td>Kingsbridge, Devon</td>\n",
              "      <td>Researcher/ desi...</td>\n",
              "      <td>...</td>\n",
              "      <td>5568.0</td>\n",
              "      <td>False</td>\n",
              "      <td>NaN</td>\n",
              "      <td>7655.0</td>\n",
              "      <td>0.0</td>\n",
              "      <td>0.0</td>\n",
              "      <td>0.0</td>\n",
              "      <td>rt  i hooked up ...</td>\n",
              "      <td>-0.700000</td>\n",
              "      <td>negative</td>\n",
              "    </tr>\n",
              "    <tr>\n",
              "      <th>17</th>\n",
              "      <td>1.64273859794083...</td>\n",
              "      <td>2023-04-03 03:59...</td>\n",
              "      <td>2023-04-08 01:06...</td>\n",
              "      <td>RT @jbrowder1: I...</td>\n",
              "      <td>en</td>\n",
              "      <td>4587704414</td>\n",
              "      <td>Gian Marcos</td>\n",
              "      <td>GianMarcosMer</td>\n",
              "      <td>NaN</td>\n",
              "      <td>Web Designer in ...</td>\n",
              "      <td>...</td>\n",
              "      <td>20564.0</td>\n",
              "      <td>False</td>\n",
              "      <td>NaN</td>\n",
              "      <td>1730.0</td>\n",
              "      <td>0.0</td>\n",
              "      <td>0.0</td>\n",
              "      <td>0.0</td>\n",
              "      <td>rt  i asked the ...</td>\n",
              "      <td>0.136364</td>\n",
              "      <td>positive</td>\n",
              "    </tr>\n",
              "  </tbody>\n",
              "</table>\n",
              "<p>4 rows × 23 columns</p>\n",
              "</div>\n",
              "      <button class=\"colab-df-convert\" onclick=\"convertToInteractive('df-95b03c06-0ee1-429b-9636-be8924a76b40')\"\n",
              "              title=\"Convert this dataframe to an interactive table.\"\n",
              "              style=\"display:none;\">\n",
              "        \n",
              "  <svg xmlns=\"http://www.w3.org/2000/svg\" height=\"24px\"viewBox=\"0 0 24 24\"\n",
              "       width=\"24px\">\n",
              "    <path d=\"M0 0h24v24H0V0z\" fill=\"none\"/>\n",
              "    <path d=\"M18.56 5.44l.94 2.06.94-2.06 2.06-.94-2.06-.94-.94-2.06-.94 2.06-2.06.94zm-11 1L8.5 8.5l.94-2.06 2.06-.94-2.06-.94L8.5 2.5l-.94 2.06-2.06.94zm10 10l.94 2.06.94-2.06 2.06-.94-2.06-.94-.94-2.06-.94 2.06-2.06.94z\"/><path d=\"M17.41 7.96l-1.37-1.37c-.4-.4-.92-.59-1.43-.59-.52 0-1.04.2-1.43.59L10.3 9.45l-7.72 7.72c-.78.78-.78 2.05 0 2.83L4 21.41c.39.39.9.59 1.41.59.51 0 1.02-.2 1.41-.59l7.78-7.78 2.81-2.81c.8-.78.8-2.07 0-2.86zM5.41 20L4 18.59l7.72-7.72 1.47 1.35L5.41 20z\"/>\n",
              "  </svg>\n",
              "      </button>\n",
              "      \n",
              "  <style>\n",
              "    .colab-df-container {\n",
              "      display:flex;\n",
              "      flex-wrap:wrap;\n",
              "      gap: 12px;\n",
              "    }\n",
              "\n",
              "    .colab-df-convert {\n",
              "      background-color: #E8F0FE;\n",
              "      border: none;\n",
              "      border-radius: 50%;\n",
              "      cursor: pointer;\n",
              "      display: none;\n",
              "      fill: #1967D2;\n",
              "      height: 32px;\n",
              "      padding: 0 0 0 0;\n",
              "      width: 32px;\n",
              "    }\n",
              "\n",
              "    .colab-df-convert:hover {\n",
              "      background-color: #E2EBFA;\n",
              "      box-shadow: 0px 1px 2px rgba(60, 64, 67, 0.3), 0px 1px 3px 1px rgba(60, 64, 67, 0.15);\n",
              "      fill: #174EA6;\n",
              "    }\n",
              "\n",
              "    [theme=dark] .colab-df-convert {\n",
              "      background-color: #3B4455;\n",
              "      fill: #D2E3FC;\n",
              "    }\n",
              "\n",
              "    [theme=dark] .colab-df-convert:hover {\n",
              "      background-color: #434B5C;\n",
              "      box-shadow: 0px 1px 3px 1px rgba(0, 0, 0, 0.15);\n",
              "      filter: drop-shadow(0px 1px 2px rgba(0, 0, 0, 0.3));\n",
              "      fill: #FFFFFF;\n",
              "    }\n",
              "  </style>\n",
              "\n",
              "      <script>\n",
              "        const buttonEl =\n",
              "          document.querySelector('#df-95b03c06-0ee1-429b-9636-be8924a76b40 button.colab-df-convert');\n",
              "        buttonEl.style.display =\n",
              "          google.colab.kernel.accessAllowed ? 'block' : 'none';\n",
              "\n",
              "        async function convertToInteractive(key) {\n",
              "          const element = document.querySelector('#df-95b03c06-0ee1-429b-9636-be8924a76b40');\n",
              "          const dataTable =\n",
              "            await google.colab.kernel.invokeFunction('convertToInteractive',\n",
              "                                                     [key], {});\n",
              "          if (!dataTable) return;\n",
              "\n",
              "          const docLinkHtml = 'Like what you see? Visit the ' +\n",
              "            '<a target=\"_blank\" href=https://colab.research.google.com/notebooks/data_table.ipynb>data table notebook</a>'\n",
              "            + ' to learn more about interactive tables.';\n",
              "          element.innerHTML = '';\n",
              "          dataTable['output_type'] = 'display_data';\n",
              "          await google.colab.output.renderOutput(dataTable, element);\n",
              "          const docLink = document.createElement('div');\n",
              "          docLink.innerHTML = docLinkHtml;\n",
              "          element.appendChild(docLink);\n",
              "        }\n",
              "      </script>\n",
              "    </div>\n",
              "  </div>\n",
              "  "
            ]
          },
          "metadata": {},
          "execution_count": 22
        }
      ]
    },
    {
      "cell_type": "code",
      "source": [
        "df.columns"
      ],
      "metadata": {
        "colab": {
          "base_uri": "https://localhost:8080/"
        },
        "id": "4TeqULulJtXD",
        "outputId": "cd2b4516-6cf9-433b-f25a-d6eadc932070"
      },
      "execution_count": 94,
      "outputs": [
        {
          "output_type": "stream",
          "name": "stderr",
          "text": [
            "/usr/local/lib/python3.10/dist-packages/ipykernel/ipkernel.py:283: DeprecationWarning: `should_run_async` will not call `transform_cell` automatically in the future. Please pass the result to `transformed_cell` argument and any exception that happen during thetransform in `preprocessing_exc_tuple` in IPython 7.17 and above.\n",
            "  and should_run_async(code)\n"
          ]
        },
        {
          "output_type": "execute_result",
          "data": {
            "text/plain": [
              "Index(['tweet_id', 'tweet_created', 'tweet_extracted', 'text', 'lang',\n",
              "       'user_id', 'user_name', 'user_username', 'user_location',\n",
              "       'user_description', 'user_created', 'user_followers_count',\n",
              "       'user_following_count', 'user_tweet_count', 'user_verified', 'source',\n",
              "       'retweet_count', 'like_count', 'reply_count', 'impression_count',\n",
              "       'cleaned_text', 'sentiment_polarity', 'sentiment', 'date',\n",
              "       'transformers_setniemnt', 'transformers_setniemnt_score',\n",
              "       'bigram_text'],\n",
              "      dtype='object')"
            ]
          },
          "metadata": {},
          "execution_count": 94
        }
      ]
    },
    {
      "cell_type": "markdown",
      "source": [],
      "metadata": {
        "id": "CVPQmZvfJtMU"
      }
    },
    {
      "cell_type": "markdown",
      "source": [
        "## From the above table we can see that there are more than 10 rows having the same text because they are mainly just a retweet! which also affects our analysis for the total sentiment analysis about chatgpt."
      ],
      "metadata": {
        "id": "wdu40XDrFQIS"
      }
    },
    {
      "cell_type": "code",
      "source": [
        "#Count of Retweets per sentiment\n",
        "df[df.text.str.startswith('RT', na=False)][\"sentiment\"].value_counts()"
      ],
      "metadata": {
        "colab": {
          "base_uri": "https://localhost:8080/"
        },
        "id": "ySbUHn4VHGZ2",
        "outputId": "1504d97f-50fb-4619-9015-4aa5f14f3581"
      },
      "execution_count": 23,
      "outputs": [
        {
          "output_type": "execute_result",
          "data": {
            "text/plain": [
              "positive    6451\n",
              "negative    2089\n",
              "Name: sentiment, dtype: int64"
            ]
          },
          "metadata": {},
          "execution_count": 23
        }
      ]
    },
    {
      "cell_type": "code",
      "source": [
        "df[['retweet_count'\t,'like_count','reply_count',\t'impression_count','sentiment']].groupby(['sentiment']).agg(['sum'])"
      ],
      "metadata": {
        "colab": {
          "base_uri": "https://localhost:8080/",
          "height": 174
        },
        "id": "e3lQgM7AHl2j",
        "outputId": "aeb79678-55ae-4990-d21f-823384be12be"
      },
      "execution_count": 24,
      "outputs": [
        {
          "output_type": "execute_result",
          "data": {
            "text/plain": [
              "          retweet_count like_count reply_count impression_count\n",
              "                    sum        sum         sum              sum\n",
              "sentiment                                                      \n",
              "negative      4436925.0    13076.0      1241.0        2002592.0\n",
              "positive      8673445.0    34631.0      5545.0        6612939.0"
            ],
            "text/html": [
              "\n",
              "  <div id=\"df-e44dbe43-b8dc-4c20-8a42-b3cece58242f\">\n",
              "    <div class=\"colab-df-container\">\n",
              "      <div>\n",
              "<style scoped>\n",
              "    .dataframe tbody tr th:only-of-type {\n",
              "        vertical-align: middle;\n",
              "    }\n",
              "\n",
              "    .dataframe tbody tr th {\n",
              "        vertical-align: top;\n",
              "    }\n",
              "\n",
              "    .dataframe thead tr th {\n",
              "        text-align: left;\n",
              "    }\n",
              "\n",
              "    .dataframe thead tr:last-of-type th {\n",
              "        text-align: right;\n",
              "    }\n",
              "</style>\n",
              "<table border=\"1\" class=\"dataframe\">\n",
              "  <thead>\n",
              "    <tr>\n",
              "      <th></th>\n",
              "      <th>retweet_count</th>\n",
              "      <th>like_count</th>\n",
              "      <th>reply_count</th>\n",
              "      <th>impression_count</th>\n",
              "    </tr>\n",
              "    <tr>\n",
              "      <th></th>\n",
              "      <th>sum</th>\n",
              "      <th>sum</th>\n",
              "      <th>sum</th>\n",
              "      <th>sum</th>\n",
              "    </tr>\n",
              "    <tr>\n",
              "      <th>sentiment</th>\n",
              "      <th></th>\n",
              "      <th></th>\n",
              "      <th></th>\n",
              "      <th></th>\n",
              "    </tr>\n",
              "  </thead>\n",
              "  <tbody>\n",
              "    <tr>\n",
              "      <th>negative</th>\n",
              "      <td>4436925.0</td>\n",
              "      <td>13076.0</td>\n",
              "      <td>1241.0</td>\n",
              "      <td>2002592.0</td>\n",
              "    </tr>\n",
              "    <tr>\n",
              "      <th>positive</th>\n",
              "      <td>8673445.0</td>\n",
              "      <td>34631.0</td>\n",
              "      <td>5545.0</td>\n",
              "      <td>6612939.0</td>\n",
              "    </tr>\n",
              "  </tbody>\n",
              "</table>\n",
              "</div>\n",
              "      <button class=\"colab-df-convert\" onclick=\"convertToInteractive('df-e44dbe43-b8dc-4c20-8a42-b3cece58242f')\"\n",
              "              title=\"Convert this dataframe to an interactive table.\"\n",
              "              style=\"display:none;\">\n",
              "        \n",
              "  <svg xmlns=\"http://www.w3.org/2000/svg\" height=\"24px\"viewBox=\"0 0 24 24\"\n",
              "       width=\"24px\">\n",
              "    <path d=\"M0 0h24v24H0V0z\" fill=\"none\"/>\n",
              "    <path d=\"M18.56 5.44l.94 2.06.94-2.06 2.06-.94-2.06-.94-.94-2.06-.94 2.06-2.06.94zm-11 1L8.5 8.5l.94-2.06 2.06-.94-2.06-.94L8.5 2.5l-.94 2.06-2.06.94zm10 10l.94 2.06.94-2.06 2.06-.94-2.06-.94-.94-2.06-.94 2.06-2.06.94z\"/><path d=\"M17.41 7.96l-1.37-1.37c-.4-.4-.92-.59-1.43-.59-.52 0-1.04.2-1.43.59L10.3 9.45l-7.72 7.72c-.78.78-.78 2.05 0 2.83L4 21.41c.39.39.9.59 1.41.59.51 0 1.02-.2 1.41-.59l7.78-7.78 2.81-2.81c.8-.78.8-2.07 0-2.86zM5.41 20L4 18.59l7.72-7.72 1.47 1.35L5.41 20z\"/>\n",
              "  </svg>\n",
              "      </button>\n",
              "      \n",
              "  <style>\n",
              "    .colab-df-container {\n",
              "      display:flex;\n",
              "      flex-wrap:wrap;\n",
              "      gap: 12px;\n",
              "    }\n",
              "\n",
              "    .colab-df-convert {\n",
              "      background-color: #E8F0FE;\n",
              "      border: none;\n",
              "      border-radius: 50%;\n",
              "      cursor: pointer;\n",
              "      display: none;\n",
              "      fill: #1967D2;\n",
              "      height: 32px;\n",
              "      padding: 0 0 0 0;\n",
              "      width: 32px;\n",
              "    }\n",
              "\n",
              "    .colab-df-convert:hover {\n",
              "      background-color: #E2EBFA;\n",
              "      box-shadow: 0px 1px 2px rgba(60, 64, 67, 0.3), 0px 1px 3px 1px rgba(60, 64, 67, 0.15);\n",
              "      fill: #174EA6;\n",
              "    }\n",
              "\n",
              "    [theme=dark] .colab-df-convert {\n",
              "      background-color: #3B4455;\n",
              "      fill: #D2E3FC;\n",
              "    }\n",
              "\n",
              "    [theme=dark] .colab-df-convert:hover {\n",
              "      background-color: #434B5C;\n",
              "      box-shadow: 0px 1px 3px 1px rgba(0, 0, 0, 0.15);\n",
              "      filter: drop-shadow(0px 1px 2px rgba(0, 0, 0, 0.3));\n",
              "      fill: #FFFFFF;\n",
              "    }\n",
              "  </style>\n",
              "\n",
              "      <script>\n",
              "        const buttonEl =\n",
              "          document.querySelector('#df-e44dbe43-b8dc-4c20-8a42-b3cece58242f button.colab-df-convert');\n",
              "        buttonEl.style.display =\n",
              "          google.colab.kernel.accessAllowed ? 'block' : 'none';\n",
              "\n",
              "        async function convertToInteractive(key) {\n",
              "          const element = document.querySelector('#df-e44dbe43-b8dc-4c20-8a42-b3cece58242f');\n",
              "          const dataTable =\n",
              "            await google.colab.kernel.invokeFunction('convertToInteractive',\n",
              "                                                     [key], {});\n",
              "          if (!dataTable) return;\n",
              "\n",
              "          const docLinkHtml = 'Like what you see? Visit the ' +\n",
              "            '<a target=\"_blank\" href=https://colab.research.google.com/notebooks/data_table.ipynb>data table notebook</a>'\n",
              "            + ' to learn more about interactive tables.';\n",
              "          element.innerHTML = '';\n",
              "          dataTable['output_type'] = 'display_data';\n",
              "          await google.colab.output.renderOutput(dataTable, element);\n",
              "          const docLink = document.createElement('div');\n",
              "          docLink.innerHTML = docLinkHtml;\n",
              "          element.appendChild(docLink);\n",
              "        }\n",
              "      </script>\n",
              "    </div>\n",
              "  </div>\n",
              "  "
            ]
          },
          "metadata": {},
          "execution_count": 24
        }
      ]
    },
    {
      "cell_type": "code",
      "source": [
        "df = df.drop_duplicates( \"text\" , keep='first')"
      ],
      "metadata": {
        "id": "DqaeOjKlGRAK"
      },
      "execution_count": 25,
      "outputs": []
    },
    {
      "cell_type": "code",
      "source": [
        "df[\"sentiment\"].value_counts().plot(kind='pie', autopct='%1.1f%%',title=\"Sentiment Analysis for tweets about Chatgpt\",figsize=(3,3))\n"
      ],
      "metadata": {
        "colab": {
          "base_uri": "https://localhost:8080/",
          "height": 308
        },
        "id": "vnjJ0PGw0ORY",
        "outputId": "a34c43f3-57de-4dd4-df2b-d202e7d68dd8"
      },
      "execution_count": 26,
      "outputs": [
        {
          "output_type": "execute_result",
          "data": {
            "text/plain": [
              "<Axes: title={'center': 'Sentiment Analysis for tweets about Chatgpt'}, ylabel='sentiment'>"
            ]
          },
          "metadata": {},
          "execution_count": 26
        },
        {
          "output_type": "display_data",
          "data": {
            "text/plain": [
              "<Figure size 300x300 with 1 Axes>"
            ],
            "image/png": "[encoded data removed]"
          },
          "metadata": {}
        }
      ]
    },
    {
      "cell_type": "code",
      "source": [
        "# df[['retweet_count'\t,'like_count','reply_count',\t'impression_count','sentiment']].groupby(['sentiment']).agg(['sum'])"
      ],
      "metadata": {
        "id": "IrDX3ccM1i_2"
      },
      "execution_count": 27,
      "outputs": []
    },
    {
      "cell_type": "code",
      "source": [
        "df[\"sentiment\"].value_counts()"
      ],
      "metadata": {
        "colab": {
          "base_uri": "https://localhost:8080/"
        },
        "id": "yoVokdPv0SWK",
        "outputId": "7a64e0b4-bc2c-4b8a-f8cb-0ee5cc11ea87"
      },
      "execution_count": 28,
      "outputs": [
        {
          "output_type": "execute_result",
          "data": {
            "text/plain": [
              "positive    6010\n",
              "negative    1762\n",
              "Name: sentiment, dtype: int64"
            ]
          },
          "metadata": {},
          "execution_count": 28
        }
      ]
    },
    {
      "cell_type": "markdown",
      "source": [
        "### Topic Modeling:\n",
        "Analyze Negative Sentiments: Investigate the factors contributing to negative sentiments towards ChatGPT, providing insights on areas for improvement or addressing specific concerns raised by users.\n"
      ],
      "metadata": {
        "id": "Ui9TUiGzz-IY"
      }
    },
    {
      "cell_type": "code",
      "source": [
        "!pip install altair_viewer"
      ],
      "metadata": {
        "colab": {
          "base_uri": "https://localhost:8080/"
        },
        "id": "nb-ufBqWM_lK",
        "outputId": "53e7aa49-d321-4366-ee3b-04f56fc7fa2e"
      },
      "execution_count": 29,
      "outputs": [
        {
          "output_type": "stream",
          "name": "stdout",
          "text": [
            "Looking in indexes: https://pypi.org/simple, https://us-python.pkg.dev/colab-wheels/public/simple/\n",
            "Collecting altair_viewer\n",
            "  Downloading altair_viewer-0.4.0-py3-none-any.whl (844 kB)\n",
            "\u001b[2K     \u001b[90m━━━━━━━━━━━━━━━━━━━━━━━━━━━━━━━━━━━━━━\u001b[0m \u001b[32m844.5/844.5 kB\u001b[0m \u001b[31m13.4 MB/s\u001b[0m eta \u001b[36m0:00:00\u001b[0m\n",
            "\u001b[?25hRequirement already satisfied: altair in /usr/local/lib/python3.10/dist-packages (from altair_viewer) (4.2.2)\n",
            "Collecting altair-data-server>=0.4.0 (from altair_viewer)\n",
            "  Downloading altair_data_server-0.4.1-py3-none-any.whl (12 kB)\n",
            "Requirement already satisfied: portpicker in /usr/local/lib/python3.10/dist-packages (from altair-data-server>=0.4.0->altair_viewer) (1.3.9)\n",
            "Requirement already satisfied: tornado in /usr/local/lib/python3.10/dist-packages (from altair-data-server>=0.4.0->altair_viewer) (6.3.1)\n",
            "Requirement already satisfied: entrypoints in /usr/local/lib/python3.10/dist-packages (from altair->altair_viewer) (0.4)\n",
            "Requirement already satisfied: jinja2 in /usr/local/lib/python3.10/dist-packages (from altair->altair_viewer) (3.1.2)\n",
            "Requirement already satisfied: jsonschema>=3.0 in /usr/local/lib/python3.10/dist-packages (from altair->altair_viewer) (4.3.3)\n",
            "Requirement already satisfied: numpy in /usr/local/lib/python3.10/dist-packages (from altair->altair_viewer) (1.22.4)\n",
            "Requirement already satisfied: pandas>=0.18 in /usr/local/lib/python3.10/dist-packages (from altair->altair_viewer) (1.5.3)\n",
            "Requirement already satisfied: toolz in /usr/local/lib/python3.10/dist-packages (from altair->altair_viewer) (0.12.0)\n",
            "Requirement already satisfied: attrs>=17.4.0 in /usr/local/lib/python3.10/dist-packages (from jsonschema>=3.0->altair->altair_viewer) (23.1.0)\n",
            "Requirement already satisfied: pyrsistent!=0.17.0,!=0.17.1,!=0.17.2,>=0.14.0 in /usr/local/lib/python3.10/dist-packages (from jsonschema>=3.0->altair->altair_viewer) (0.19.3)\n",
            "Requirement already satisfied: python-dateutil>=2.8.1 in /usr/local/lib/python3.10/dist-packages (from pandas>=0.18->altair->altair_viewer) (2.8.2)\n",
            "Requirement already satisfied: pytz>=2020.1 in /usr/local/lib/python3.10/dist-packages (from pandas>=0.18->altair->altair_viewer) (2022.7.1)\n",
            "Requirement already satisfied: MarkupSafe>=2.0 in /usr/local/lib/python3.10/dist-packages (from jinja2->altair->altair_viewer) (2.1.2)\n",
            "Requirement already satisfied: six>=1.5 in /usr/local/lib/python3.10/dist-packages (from python-dateutil>=2.8.1->pandas>=0.18->altair->altair_viewer) (1.16.0)\n",
            "Installing collected packages: altair-data-server, altair_viewer\n",
            "Successfully installed altair-data-server-0.4.1 altair_viewer-0.4.0\n"
          ]
        }
      ]
    },
    {
      "cell_type": "code",
      "source": [
        "# Import the wordcloud library\n",
        "from wordcloud import WordCloud\n",
        "# Join the different processed titles together.\n",
        "long_string = ','.join(list(df['cleaned_text'].values))\n",
        "# Create a WordCloud object\n",
        "wordcloud = WordCloud(background_color=\"white\", max_words=5000, contour_width=3, contour_color='steelblue')\n",
        "# Generate a word cloud\n",
        "wordcloud.generate(long_string)\n",
        "# Visualize the word cloud\n",
        "wordcloud.to_image()\n"
      ],
      "metadata": {
        "colab": {
          "base_uri": "https://localhost:8080/",
          "height": 217
        },
        "id": "bJFJnDApOOtV",
        "outputId": "e18cf52b-dc9d-45c6-ca3a-ba0a3f21372e"
      },
      "execution_count": 31,
      "outputs": [
        {
          "output_type": "execute_result",
          "data": {
            "text/plain": [
              "<PIL.Image.Image image mode=RGB size=400x200 at 0x7F23E0F4DD50>"
            ],
            "image/png": "[encoded data removed]"
          },
          "metadata": {},
          "execution_count": 31
        }
      ]
    },
    {
      "cell_type": "code",
      "source": [
        "\n",
        "import pandas as pd\n",
        "import nltk\n",
        "nltk.download('punkt')\n",
        "\n",
        "nltk.download('stopwords')\n",
        "from nltk.corpus import stopwords\n",
        "from nltk.tokenize import word_tokenize\n",
        "from gensim import corpora\n",
        "from gensim.models import LdaModel\n",
        "from gensim.models import CoherenceModel\n",
        "\n",
        "# Load the stopwords\n",
        "stop_words = set(stopwords.words('english'))\n",
        "\n",
        "# Load the tweets from the DataFrame\n",
        "tweets = df['cleaned_text'].tolist()\n",
        "\n",
        "# Tokenize the tweets\n",
        "tokenized_tweets = [word_tokenize(tweet.lower()) for tweet in tweets]\n",
        "\n",
        "# Remove stopwords and words with length less than 3\n",
        "tokenized_tweets = [[word for word in tweet if word.isalnum() and len(word) > 2 and word not in stop_words] for tweet in tokenized_tweets]\n",
        "\n",
        "# Create a dictionary representation of the tokenized tweets\n",
        "# dictionary = corpora.Dictionary(tokenized_tweets)\n",
        "\n",
        "# # Convert the tokenized tweets into a document-term matrix\n",
        "# corpus = [dictionary.doc2bow(tweet) for tweet in tokenized_tweets]\n",
        "\n",
        "# # Set the number of topics to be detected\n",
        "# num_topics = 5\n",
        "\n",
        "# # Build the LDA model\n",
        "# lda_model = LdaModel(corpus=corpus, id2word=dictionary, num_topics=num_topics)\n",
        "\n",
        "# # Print the topics and their corresponding keywords\n",
        "# topics = lda_model.print_topics(num_topics=num_topics)\n",
        "# for topic in topics:\n",
        "#     print(topic)\n",
        "\n",
        "# # Compute the coherence score for the model\n",
        "# coherence_model = CoherenceModel(model=lda_model, texts=tokenized_tweets, dictionary=dictionary, coherence='c_v')\n",
        "# coherence_score = coherence_model.get_coherence()\n",
        "# print(f\"Coherence Score: {coherence_score}\")\n"
      ],
      "metadata": {
        "colab": {
          "base_uri": "https://localhost:8080/"
        },
        "id": "Pa_6DYNSN6Xg",
        "outputId": "69120667-73ae-4faa-dc51-1fd027f775fe"
      },
      "execution_count": 32,
      "outputs": [
        {
          "output_type": "stream",
          "name": "stderr",
          "text": [
            "[nltk_data] Downloading package punkt to /root/nltk_data...\n",
            "[nltk_data]   Unzipping tokenizers/punkt.zip.\n",
            "[nltk_data] Downloading package stopwords to /root/nltk_data...\n",
            "[nltk_data]   Unzipping corpora/stopwords.zip.\n"
          ]
        }
      ]
    },
    {
      "cell_type": "code",
      "source": [
        "!pip install pyLDAvis\n",
        "!pip install gensim\n"
      ],
      "metadata": {
        "id": "wJAfr56GSx60"
      },
      "execution_count": null,
      "outputs": []
    },
    {
      "cell_type": "code",
      "source": [
        "import pyLDAvis\n",
        "import pyLDAvis.gensim_models as gensimvis\n"
      ],
      "metadata": {
        "id": "OZlXD-E2S0W6"
      },
      "execution_count": 35,
      "outputs": []
    },
    {
      "cell_type": "code",
      "source": [],
      "metadata": {
        "id": "r8Hf0TtEVTe2",
        "colab": {
          "base_uri": "https://localhost:8080/"
        },
        "outputId": "d0c179bd-8757-4b96-98f1-83e315a42a5f"
      },
      "execution_count": 35,
      "outputs": [
        {
          "output_type": "stream",
          "name": "stderr",
          "text": [
            "/usr/local/lib/python3.10/dist-packages/ipykernel/ipkernel.py:283: DeprecationWarning: `should_run_async` will not call `transform_cell` automatically in the future. Please pass the result to `transformed_cell` argument and any exception that happen during thetransform in `preprocessing_exc_tuple` in IPython 7.17 and above.\n",
            "  and should_run_async(code)\n"
          ]
        }
      ]
    },
    {
      "cell_type": "code",
      "source": [
        "!pip install pyLDAvis==2.1.2\n"
      ],
      "metadata": {
        "id": "eVbQhJyAVTOP"
      },
      "execution_count": null,
      "outputs": []
    },
    {
      "cell_type": "code",
      "source": [
        "# # import pyLDAvis\n",
        "# # import pyLDAvis.gensim_models as gensimvis\n",
        "# # import matplotlib.pyplot as plt\n",
        "# # id2word = corpora.Dictionary(tokenized_tweets)\n",
        "# # corpus = [id2word.doc2bow(text) for text in tokenized_tweets]\n",
        "\n",
        "# # lda_model = gensim.models.ldamodel.LdaModel(corpus=corpus,\n",
        "# #                                            id2word=id2word,\n",
        "# #                                            num_topics=20,\n",
        "# #                                            random_state=100,\n",
        "# #                                            update_every=1,\n",
        "# #                                            chunksize=100,\n",
        "# #                                            passes=10,\n",
        "# #                                            alpha='auto',\n",
        "# #                                            per_word_topics=True)\n",
        "\n",
        "# # # Generate the visualization\n",
        "# # vis = gensimvis.prepare(lda_model, corpus, id2word)\n",
        "# # pyLDAvis.enable_notebook()\n",
        "\n",
        "# # # Create the interactive plot\n",
        "# # fig = plt.figure(figsize=(10, 8))\n",
        "# # pyLDAvis.display(vis)\n",
        "\n",
        "# # # Show the plot\n",
        "# # plt.show()\n",
        "\n",
        "# import pyLDAvis\n",
        "# import pyLDAvis.gensim_models as gensimvis\n",
        "# import matplotlib.pyplot as plt\n",
        "# from gensim import corpora\n",
        "\n",
        "# id2word = corpora.Dictionary(tokenized_tweets)\n",
        "# corpus = [id2word.doc2bow(text) for text in tokenized_tweets]\n",
        "\n",
        "# lda_model = gensim.models.ldamodel.LdaModel(corpus=corpus,\n",
        "#                                            id2word=id2word,\n",
        "#                                            num_topics=20,\n",
        "#                                            random_state=100,\n",
        "#                                            update_every=1,\n",
        "#                                            chunksize=100,\n",
        "#                                            passes=10,\n",
        "#                                            alpha='auto',\n",
        "#                                            per_word_topics=True)\n",
        "\n",
        "# vis = gensimvis.prepare(lda_model, corpus, id2word)\n",
        "# pyLDAvis.enable_notebook()\n",
        "\n",
        "# # Create the interactive plot\n",
        "# pyLDAvis.display(vis)\n",
        "\n"
      ],
      "metadata": {
        "colab": {
          "base_uri": "https://localhost:8080/"
        },
        "id": "8O6g_BiPSCcI",
        "outputId": "4bd0913d-196f-4a32-bcd6-a5c66b71d9d5"
      },
      "execution_count": 37,
      "outputs": [
        {
          "output_type": "stream",
          "name": "stderr",
          "text": [
            "/usr/local/lib/python3.10/dist-packages/ipykernel/ipkernel.py:283: DeprecationWarning: `should_run_async` will not call `transform_cell` automatically in the future. Please pass the result to `transformed_cell` argument and any exception that happen during thetransform in `preprocessing_exc_tuple` in IPython 7.17 and above.\n",
            "  and should_run_async(code)\n"
          ]
        }
      ]
    },
    {
      "cell_type": "markdown",
      "source": [
        "Sentiment Trend Analysis: Track sentiment over time to identify any changes or patterns in public perception towards ChatGPT, allowing for a better understanding of its evolving reception.\n"
      ],
      "metadata": {
        "id": "qn_0ly9fX7OR"
      }
    },
    {
      "cell_type": "code",
      "source": [
        "import pandas as pd\n",
        "import matplotlib.pyplot as plt\n",
        "import seaborn as sns\n",
        "\n",
        "\n",
        "# Convert the 'date' column to datetime format\n",
        "df['date'] = pd.to_datetime(df['tweet_created'])\n",
        "\n",
        "# Group the data by date and calculate the average sentiment for each day\n",
        "# sentiment_trend = df.groupby(df['date'].dt.date)['sentiment_polarity'].mean()\n",
        "sentiment_counts = df.groupby([df['date'].dt.date, 'sentiment']).size().unstack(fill_value=0)\n",
        "\n",
        "# Calculate the percentage of positive and negative sentiments\n",
        "sentiment_counts['positive_percentage'] = sentiment_counts['positive'] / sentiment_counts.sum(axis=1)\n",
        "sentiment_counts['negative_percentage'] = sentiment_counts['negative'] / sentiment_counts.sum(axis=1)\n",
        "\n",
        "# Plot the sentiment trends over time\n",
        "plt.figure(figsize=(12, 6))\n",
        "plt.plot(sentiment_counts.index, sentiment_counts['positive_percentage'], label='Positive Sentiment')\n",
        "plt.plot(sentiment_counts.index, sentiment_counts['negative_percentage'], label='Negative Sentiment')\n",
        "plt.xlabel('Date')\n",
        "plt.ylabel('Sentiment Percentage')\n",
        "plt.title('Sentiment Trend Analysis')\n",
        "plt.xticks(rotation=45)\n",
        "plt.legend()\n",
        "plt.show()"
      ],
      "metadata": {
        "colab": {
          "base_uri": "https://localhost:8080/",
          "height": 672
        },
        "id": "RHzmU-FFYIuS",
        "outputId": "906883a3-c300-4cf7-b331-59e390cb9a82"
      },
      "execution_count": 38,
      "outputs": [
        {
          "output_type": "stream",
          "name": "stderr",
          "text": [
            "/usr/local/lib/python3.10/dist-packages/ipykernel/ipkernel.py:283: DeprecationWarning: `should_run_async` will not call `transform_cell` automatically in the future. Please pass the result to `transformed_cell` argument and any exception that happen during thetransform in `preprocessing_exc_tuple` in IPython 7.17 and above.\n",
            "  and should_run_async(code)\n"
          ]
        },
        {
          "output_type": "display_data",
          "data": {
            "text/plain": [
              "<Figure size 1200x600 with 1 Axes>"
            ],
            "image/png": "[encoded data removed]"
          },
          "metadata": {}
        }
      ]
    },
    {
      "cell_type": "code",
      "source": [
        "# Convert the 'date' column to datetime format\n",
        "df['date'] = pd.to_datetime(df['tweet_created'])\n",
        "\n",
        "sentiment_counts = df.groupby(['date', 'sentiment']).size().unstack(fill_value=0)\n",
        "\n",
        "# Plot the sentiment trends over time\n",
        "plt.figure(figsize=(12, 6))\n",
        "plt.plot(sentiment_counts.index, sentiment_counts['positive'], label='Positive Sentiment')\n",
        "plt.plot(sentiment_counts.index, sentiment_counts['negative'], label='Negative Sentiment')\n",
        "plt.xlabel('Date')\n",
        "plt.ylabel('Count')\n",
        "plt.title('Sentiment Trend Analysis')\n",
        "plt.xticks(rotation=45)\n",
        "plt.legend()\n",
        "plt.show()\n"
      ],
      "metadata": {
        "colab": {
          "base_uri": "https://localhost:8080/",
          "height": 672
        },
        "id": "-fuqsT0VZPRO",
        "outputId": "e4693999-4f85-4aea-f44e-7134e4fa067f"
      },
      "execution_count": 39,
      "outputs": [
        {
          "output_type": "stream",
          "name": "stderr",
          "text": [
            "/usr/local/lib/python3.10/dist-packages/ipykernel/ipkernel.py:283: DeprecationWarning: `should_run_async` will not call `transform_cell` automatically in the future. Please pass the result to `transformed_cell` argument and any exception that happen during thetransform in `preprocessing_exc_tuple` in IPython 7.17 and above.\n",
            "  and should_run_async(code)\n"
          ]
        },
        {
          "output_type": "display_data",
          "data": {
            "text/plain": [
              "<Figure size 1200x600 with 1 Axes>"
            ],
            "image/png": "[encoded data removed]"
          },
          "metadata": {}
        }
      ]
    },
    {
      "cell_type": "code",
      "source": [
        "sentiment_counts = df.groupby(['date', 'sentiment']).size().unstack()\n",
        "\n",
        "# Create line plots for positive and negative sentiment\n",
        "plt.plot(sentiment_counts.index, sentiment_counts['positive'], label='Positive')\n",
        "plt.plot(sentiment_counts.index, sentiment_counts['negative'], label='Negative')\n",
        "\n",
        "# Set the x-axis label and title\n",
        "plt.xlabel('Date')\n",
        "plt.title('Sentiment Trend Analysis')\n",
        "\n",
        "# Set the y-axis label\n",
        "plt.ylabel('Count')\n",
        "\n",
        "# Add a legend\n",
        "plt.legend()\n",
        "\n",
        "# Show the plot\n",
        "plt.show()"
      ],
      "metadata": {
        "colab": {
          "base_uri": "https://localhost:8080/",
          "height": 528
        },
        "id": "KbLo02ELZXBl",
        "outputId": "4abe76de-af2d-4cc4-d7cf-50b421aee7d2"
      },
      "execution_count": 40,
      "outputs": [
        {
          "output_type": "stream",
          "name": "stderr",
          "text": [
            "/usr/local/lib/python3.10/dist-packages/ipykernel/ipkernel.py:283: DeprecationWarning: `should_run_async` will not call `transform_cell` automatically in the future. Please pass the result to `transformed_cell` argument and any exception that happen during thetransform in `preprocessing_exc_tuple` in IPython 7.17 and above.\n",
            "  and should_run_async(code)\n"
          ]
        },
        {
          "output_type": "display_data",
          "data": {
            "text/plain": [
              "<Figure size 640x480 with 1 Axes>"
            ],
            "image/png": "[encoded data removed]"
          },
          "metadata": {}
        }
      ]
    },
    {
      "cell_type": "markdown",
      "source": [
        "we can see that this plot is awful and hard to understand"
      ],
      "metadata": {
        "id": "0hbega9waqaX"
      }
    },
    {
      "cell_type": "code",
      "source": [
        "df['tweet_created'] = pd.to_datetime(df['tweet_created'])\n",
        "\n",
        "sentiment_counts  = df.groupby(['sentiment', df['tweet_created'].dt.strftime('%W')])['sentiment_polarity'].count().unstack()\n",
        "sentiment_counts.T.plot(kind='line')\n",
        "\n",
        "# Set the x-axis label and title\n",
        "plt.xlabel('Week')\n",
        "plt.title('Sentiment Trend Analysis')\n",
        "\n",
        "# Set the y-axis label\n",
        "plt.ylabel('Sentiment Polarity Sum')\n",
        "\n",
        "# Add a legend\n",
        "plt.legend()\n",
        "\n",
        "# Show the plot\n",
        "plt.show()\n"
      ],
      "metadata": {
        "colab": {
          "base_uri": "https://localhost:8080/",
          "height": 528
        },
        "id": "-IRtew-Xc3Ym",
        "outputId": "61d53996-d92b-46a8-9247-890e192c9a8e"
      },
      "execution_count": 41,
      "outputs": [
        {
          "output_type": "stream",
          "name": "stderr",
          "text": [
            "/usr/local/lib/python3.10/dist-packages/ipykernel/ipkernel.py:283: DeprecationWarning: `should_run_async` will not call `transform_cell` automatically in the future. Please pass the result to `transformed_cell` argument and any exception that happen during thetransform in `preprocessing_exc_tuple` in IPython 7.17 and above.\n",
            "  and should_run_async(code)\n"
          ]
        },
        {
          "output_type": "display_data",
          "data": {
            "text/plain": [
              "<Figure size 640x480 with 1 Axes>"
            ],
            "image/png": "[encoded data removed]"
          },
          "metadata": {}
        }
      ]
    },
    {
      "cell_type": "code",
      "source": [
        "sentiment_counts = df.groupby(['sentiment', df['tweet_created'].dt.strftime('%W')])['sentiment_polarity'].sum().unstack(fill_value=0)\n",
        "\n",
        "# Plot the line chart for positive and negative sentiments\n",
        "ax = sentiment_counts.T.plot(kind='line')\n",
        "\n",
        "# Set the x-axis label and title\n",
        "ax.set_xlabel('Week')\n",
        "ax.set_title('Sentiment Trend Analysis')\n",
        "\n",
        "# Set the y-axis label\n",
        "ax.set_ylabel('Sentiment Polarity Sum')\n",
        "\n",
        "# Add a legend\n",
        "ax.legend()\n",
        "\n",
        "# Calculate and plot trend lines for positive and negative sentiments\n",
        "x = np.arange(len(sentiment_counts.columns))\n",
        "trend_positive = np.polyfit(x, sentiment_counts.T['positive'], deg=1)\n",
        "trend_negative = np.polyfit(x, sentiment_counts.T['negative'], deg=1)\n",
        "ax.plot(x, trend_positive[0] * x + trend_positive[1], color='green', linestyle='--', label='Positive Trend')\n",
        "ax.plot(x, trend_negative[0] * x + trend_negative[1], color='red', linestyle='--', label='Negative Trend')\n",
        "\n",
        "# Show the plot\n",
        "plt.show()"
      ],
      "metadata": {
        "colab": {
          "base_uri": "https://localhost:8080/",
          "height": 528
        },
        "id": "hJgP-ti3d3eE",
        "outputId": "b146c006-63fa-4178-e7b8-8c1f2fa005e6"
      },
      "execution_count": 42,
      "outputs": [
        {
          "output_type": "stream",
          "name": "stderr",
          "text": [
            "/usr/local/lib/python3.10/dist-packages/ipykernel/ipkernel.py:283: DeprecationWarning: `should_run_async` will not call `transform_cell` automatically in the future. Please pass the result to `transformed_cell` argument and any exception that happen during thetransform in `preprocessing_exc_tuple` in IPython 7.17 and above.\n",
            "  and should_run_async(code)\n"
          ]
        },
        {
          "output_type": "display_data",
          "data": {
            "text/plain": [
              "<Figure size 640x480 with 1 Axes>"
            ],
            "image/png": "[encoded data removed]"
          },
          "metadata": {}
        }
      ]
    },
    {
      "cell_type": "code",
      "source": [
        "sentiment_counts.plot(kind='bar', stacked=True)\n",
        "\n",
        "# Set the x-axis label and title\n",
        "plt.xlabel('Week')\n",
        "plt.title('Sentiment Trend Analysis')\n",
        "\n",
        "# Set the y-axis label\n",
        "plt.ylabel('Count')\n",
        "\n",
        "# Add a legend\n",
        "plt.legend()\n",
        "\n",
        "# Show the plot\n",
        "plt.show()\n"
      ],
      "metadata": {
        "colab": {
          "base_uri": "https://localhost:8080/",
          "height": 575
        },
        "id": "h54LbvfCdcJ8",
        "outputId": "84c7eb56-4b08-4ffb-f8e4-21df397e47ce"
      },
      "execution_count": 43,
      "outputs": [
        {
          "output_type": "stream",
          "name": "stderr",
          "text": [
            "/usr/local/lib/python3.10/dist-packages/ipykernel/ipkernel.py:283: DeprecationWarning: `should_run_async` will not call `transform_cell` automatically in the future. Please pass the result to `transformed_cell` argument and any exception that happen during thetransform in `preprocessing_exc_tuple` in IPython 7.17 and above.\n",
            "  and should_run_async(code)\n"
          ]
        },
        {
          "output_type": "display_data",
          "data": {
            "text/plain": [
              "<Figure size 640x480 with 1 Axes>"
            ],
            "image/png": "[encoded data removed]"
          },
          "metadata": {}
        }
      ]
    },
    {
      "cell_type": "markdown",
      "source": [
        "#Using Pretrained sentiment analysis models"
      ],
      "metadata": {
        "id": "yrziZFURegus"
      }
    },
    {
      "cell_type": "code",
      "source": [
        "!pip install -q transformers\n",
        "#"
      ],
      "metadata": {
        "colab": {
          "base_uri": "https://localhost:8080/"
        },
        "id": "YlX8E86fzE67",
        "outputId": "7babd797-e3a9-42a8-8872-8005c40a29b1"
      },
      "execution_count": 46,
      "outputs": [
        {
          "output_type": "stream",
          "name": "stderr",
          "text": [
            "/usr/local/lib/python3.10/dist-packages/ipykernel/ipkernel.py:283: DeprecationWarning: `should_run_async` will not call `transform_cell` automatically in the future. Please pass the result to `transformed_cell` argument and any exception that happen during thetransform in `preprocessing_exc_tuple` in IPython 7.17 and above.\n",
            "  and should_run_async(code)\n"
          ]
        },
        {
          "output_type": "stream",
          "name": "stdout",
          "text": [
            "\u001b[2K     \u001b[90m━━━━━━━━━━━━━━━━━━━━━━━━━━━━━━━━━━━━━━━━\u001b[0m \u001b[32m7.2/7.2 MB\u001b[0m \u001b[31m25.2 MB/s\u001b[0m eta \u001b[36m0:00:00\u001b[0m\n",
            "\u001b[2K     \u001b[90m━━━━━━━━━━━━━━━━━━━━━━━━━━━━━━━━━━━━━━\u001b[0m \u001b[32m236.8/236.8 kB\u001b[0m \u001b[31m24.7 MB/s\u001b[0m eta \u001b[36m0:00:00\u001b[0m\n",
            "\u001b[2K     \u001b[90m━━━━━━━━━━━━━━━━━━━━━━━━━━━━━━━━━━━━━━━━\u001b[0m \u001b[32m7.8/7.8 MB\u001b[0m \u001b[31m79.2 MB/s\u001b[0m eta \u001b[36m0:00:00\u001b[0m\n",
            "\u001b[2K     \u001b[90m━━━━━━━━━━━━━━━━━━━━━━━━━━━━━━━━━━━━━━━━\u001b[0m \u001b[32m1.3/1.3 MB\u001b[0m \u001b[31m48.7 MB/s\u001b[0m eta \u001b[36m0:00:00\u001b[0m\n",
            "\u001b[?25h"
          ]
        }
      ]
    },
    {
      "cell_type": "code",
      "source": [
        "from transformers import pipeline\n",
        "sentiment_pipeline = pipeline(\"sentiment-analysis\")\n",
        "data = list(df[\"cleaned_text\"])\n",
        "sentimentList = sentiment_pipeline(data)\n",
        "\n"
      ],
      "metadata": {
        "colab": {
          "base_uri": "https://localhost:8080/",
          "height": 382,
          "referenced_widgets": [
            "f9cfa3a51a7241a58202b0f31f42e6b3",
            "abcffe218a604e4eb7f5594bfed7cb70",
            "18971b3800b84d0ebf27a884c89c57da",
            "42611a90fe8d4096be1e5f2e6a403560",
            "473ed5ca5eba4f5d9b1ffe4119407d9b",
            "5a41862570714660a0e2992d5ae3ef97",
            "25265671333249d9be483c37f5e4294c",
            "cb80437d2ffb403a9720ca94924cc0cd",
            "a448f34fb56b44ebb7a1d9c88bc027ad",
            "dc93b9076978427cb34b85f3f783bd0d",
            "08daa7ebf5a24c54805bbec33dc20e7a",
            "fd50469a9bcd45d19cd8ffcf3d319ceb",
            "aa841a038f1e474096f12aa193408e3a",
            "416bab5f32af4ad68eefb6ffc9dba322",
            "13d810cac3b046d29f4351aa94add107",
            "0cfb075f5fc349c7b38ccd2d584e6f1a",
            "a1957948815b4eb7997155276fcf3fbb",
            "176511c2c55e496dbe1ac90623ab2659",
            "94ee0e737e2c47fdba062740d0c12cd1",
            "54fb74704f9b4a9db2d238b5f25ec92e",
            "2b29030ff383492097e190adbbe60909",
            "91c37649cdad46ffb82a975b4ebe8291",
            "d5fd0f9d933c4170affe616422c3d611",
            "61bfdc013388494e8c2742892599375b",
            "bfc86f85f4594c8f92a4af47813a9d49",
            "0cf7d8518832428ab80877ff5de7a19a",
            "2c11aebbec244eb591cfa487c88ac02b",
            "3cc52e69cb99479386f9af6909fd3c2d",
            "6521adb3ce4547adafc8be06d855361c",
            "367725bbc389402baede4bc9c2818fb1",
            "c3940b5a01a24300abae2033da12e080",
            "cfa4a59bc3c1495d9dc3bc95810e8a36",
            "31a849447b124e80b46a476247b0fc4b",
            "f2afefeed0764fc39d22cbee2370ac11",
            "5d4d37117ff044bea17cc2a07e7c7f2f",
            "1da3e8d774d34e03b085bfbd0b3e30b5",
            "734c3e79fb9e4d388f64dc5249a9cc7e",
            "c0b3ab4fd48243c1813824e733dd4da3",
            "67641b1ef278423b8d2a70787e034ffa",
            "b7f3bd544f55454e840094f95e585676",
            "7f343c6701014530a9d7b44330b33f3b",
            "d59c5426d1434ea09729b35482a399b7",
            "e91c1408475648319822d416cccc8497",
            "0c4120f88ac24f1f80370f5afa4ec9b1"
          ]
        },
        "id": "y2Q63bu7ebgr",
        "outputId": "bd6eb287-0a18-48d6-ae9f-abde1572eecc"
      },
      "execution_count": 47,
      "outputs": [
        {
          "output_type": "stream",
          "name": "stderr",
          "text": [
            "/usr/local/lib/python3.10/dist-packages/ipykernel/ipkernel.py:283: DeprecationWarning: `should_run_async` will not call `transform_cell` automatically in the future. Please pass the result to `transformed_cell` argument and any exception that happen during thetransform in `preprocessing_exc_tuple` in IPython 7.17 and above.\n",
            "  and should_run_async(code)\n",
            "/usr/local/lib/python3.10/dist-packages/tensorflow_probability/python/__init__.py:57: DeprecationWarning: distutils Version classes are deprecated. Use packaging.version instead.\n",
            "  if (distutils.version.LooseVersion(tf.__version__) <\n",
            "/usr/local/lib/python3.10/dist-packages/tensorflow_probability/python/__init__.py:58: DeprecationWarning: distutils Version classes are deprecated. Use packaging.version instead.\n",
            "  distutils.version.LooseVersion(required_tensorflow_version)):\n",
            "No model was supplied, defaulted to distilbert-base-uncased-finetuned-sst-2-english and revision af0f99b (https://huggingface.co/distilbert-base-uncased-finetuned-sst-2-english).\n",
            "Using a pipeline without specifying a model name and revision in production is not recommended.\n"
          ]
        },
        {
          "output_type": "display_data",
          "data": {
            "text/plain": [
              "Downloading (…)lve/main/config.json:   0%|          | 0.00/629 [00:00<?, ?B/s]"
            ],
            "application/vnd.jupyter.widget-view+json": {
              "version_major": 2,
              "version_minor": 0,
              "model_id": "f9cfa3a51a7241a58202b0f31f42e6b3"
            }
          },
          "metadata": {}
        },
        {
          "output_type": "display_data",
          "data": {
            "text/plain": [
              "Downloading model.safetensors:   0%|          | 0.00/268M [00:00<?, ?B/s]"
            ],
            "application/vnd.jupyter.widget-view+json": {
              "version_major": 2,
              "version_minor": 0,
              "model_id": "fd50469a9bcd45d19cd8ffcf3d319ceb"
            }
          },
          "metadata": {}
        },
        {
          "output_type": "display_data",
          "data": {
            "text/plain": [
              "Downloading (…)okenizer_config.json:   0%|          | 0.00/48.0 [00:00<?, ?B/s]"
            ],
            "application/vnd.jupyter.widget-view+json": {
              "version_major": 2,
              "version_minor": 0,
              "model_id": "d5fd0f9d933c4170affe616422c3d611"
            }
          },
          "metadata": {}
        },
        {
          "output_type": "display_data",
          "data": {
            "text/plain": [
              "Downloading (…)solve/main/vocab.txt:   0%|          | 0.00/232k [00:00<?, ?B/s]"
            ],
            "application/vnd.jupyter.widget-view+json": {
              "version_major": 2,
              "version_minor": 0,
              "model_id": "f2afefeed0764fc39d22cbee2370ac11"
            }
          },
          "metadata": {}
        },
        {
          "output_type": "stream",
          "name": "stderr",
          "text": [
            "/usr/local/lib/python3.10/dist-packages/transformers/models/open_llama/modeling_open_llama.py:42: DeprecationWarning: The 'warn' method is deprecated, use 'warning' instead\n",
            "  logger.warn(\n",
            "Xformers is not installed correctly. If you want to use memory_efficient_attention to accelerate training use the following command to install Xformers\n",
            "pip install xformers.\n"
          ]
        }
      ]
    },
    {
      "cell_type": "code",
      "source": [
        "sentimentList[1:10]"
      ],
      "metadata": {
        "colab": {
          "base_uri": "https://localhost:8080/"
        },
        "id": "nFtyuxJR56at",
        "outputId": "0f6d3568-36f9-4824-e9c6-5a9498359b47"
      },
      "execution_count": 56,
      "outputs": [
        {
          "output_type": "stream",
          "name": "stderr",
          "text": [
            "/usr/local/lib/python3.10/dist-packages/ipykernel/ipkernel.py:283: DeprecationWarning: `should_run_async` will not call `transform_cell` automatically in the future. Please pass the result to `transformed_cell` argument and any exception that happen during thetransform in `preprocessing_exc_tuple` in IPython 7.17 and above.\n",
            "  and should_run_async(code)\n"
          ]
        },
        {
          "output_type": "execute_result",
          "data": {
            "text/plain": [
              "[{'label': 'NEGATIVE', 'score': 0.9945264458656311},\n",
              " {'label': 'NEGATIVE', 'score': 0.978847086429596},\n",
              " {'label': 'NEGATIVE', 'score': 0.9995923638343811},\n",
              " {'label': 'NEGATIVE', 'score': 0.9928175210952759},\n",
              " {'label': 'NEGATIVE', 'score': 0.9993384480476379},\n",
              " {'label': 'NEGATIVE', 'score': 0.9977154731750488},\n",
              " {'label': 'NEGATIVE', 'score': 0.9887953996658325},\n",
              " {'label': 'NEGATIVE', 'score': 0.9875909090042114},\n",
              " {'label': 'NEGATIVE', 'score': 0.9955279231071472}]"
            ]
          },
          "metadata": {},
          "execution_count": 56
        }
      ]
    },
    {
      "cell_type": "code",
      "source": [
        "sentimentList\n",
        "df[\"transformers_setniemnt\"] = [d['label'] for d in sentimentList]\n",
        "df[\"transformers_setniemnt_score\"] = [d['score'] for d in sentimentList]\n"
      ],
      "metadata": {
        "colab": {
          "base_uri": "https://localhost:8080/"
        },
        "id": "LolvGNnL4Hnc",
        "outputId": "4add586b-ac57-40f1-b53e-40beec2e9611"
      },
      "execution_count": 57,
      "outputs": [
        {
          "output_type": "stream",
          "name": "stderr",
          "text": [
            "/usr/local/lib/python3.10/dist-packages/ipykernel/ipkernel.py:283: DeprecationWarning: `should_run_async` will not call `transform_cell` automatically in the future. Please pass the result to `transformed_cell` argument and any exception that happen during thetransform in `preprocessing_exc_tuple` in IPython 7.17 and above.\n",
            "  and should_run_async(code)\n"
          ]
        }
      ]
    },
    {
      "cell_type": "code",
      "source": [
        "df[\"transformers_setniemnt\"].value_counts().plot(kind='pie', autopct='%1.1f%%',title=\"Sentiment Analysis for tweets about Chatgpt using transformers pretrained model\",figsize=(3,3))\n"
      ],
      "metadata": {
        "colab": {
          "base_uri": "https://localhost:8080/",
          "height": 364
        },
        "id": "y5wfW9xK5zLs",
        "outputId": "a905e312-3989-4b0c-82a5-a4a5f229b9a3"
      },
      "execution_count": 91,
      "outputs": [
        {
          "output_type": "stream",
          "name": "stderr",
          "text": [
            "/usr/local/lib/python3.10/dist-packages/ipykernel/ipkernel.py:283: DeprecationWarning: `should_run_async` will not call `transform_cell` automatically in the future. Please pass the result to `transformed_cell` argument and any exception that happen during thetransform in `preprocessing_exc_tuple` in IPython 7.17 and above.\n",
            "  and should_run_async(code)\n"
          ]
        },
        {
          "output_type": "execute_result",
          "data": {
            "text/plain": [
              "<Axes: title={'center': 'Sentiment Analysis for tweets about Chatgpt using transformers pretrained model'}, ylabel='transformers_setniemnt'>"
            ]
          },
          "metadata": {},
          "execution_count": 91
        },
        {
          "output_type": "display_data",
          "data": {
            "text/plain": [
              "<Figure size 300x300 with 1 Axes>"
            ],
            "image/png": "[encoded data removed]"
          },
          "metadata": {}
        }
      ]
    },
    {
      "cell_type": "code",
      "source": [
        "sentiment_counts = df.groupby(['transformers_setniemnt', df['tweet_created'].dt.strftime('%W')])['transformers_setniemnt_score'].sum().unstack(fill_value=0)\n",
        "\n",
        "# Plot the line chart for positive and negative sentiments\n",
        "ax = sentiment_counts.T.plot(kind='line')\n",
        "\n",
        "# Set the x-axis label and title\n",
        "ax.set_xlabel('Week')\n",
        "ax.set_title('Sentiment Trend Analysis')\n",
        "\n",
        "# Set the y-axis label\n",
        "ax.set_ylabel('Sentiment Polarity Sum')\n",
        "\n",
        "# Add a legend\n",
        "ax.legend()\n",
        "\n",
        "# Calculate and plot trend lines for positive and negative sentiments\n",
        "x = np.arange(len(sentiment_counts.columns))\n",
        "trend_positive = np.polyfit(x, sentiment_counts.T['POSITIVE'], deg=1)\n",
        "trend_negative = np.polyfit(x, sentiment_counts.T['NEGATIVE'], deg=1)\n",
        "ax.plot(x, trend_positive[0] * x + trend_positive[1], color='green', linestyle='--', label='Positive Trend')\n",
        "ax.plot(x, trend_negative[0] * x + trend_negative[1], color='red', linestyle='--', label='Negative Trend')\n",
        "\n",
        "# Show the plot\n",
        "plt.show()"
      ],
      "metadata": {
        "colab": {
          "base_uri": "https://localhost:8080/",
          "height": 528
        },
        "id": "lHJpuTUJHkRr",
        "outputId": "7407a55f-189f-49c0-f9c7-43a836b9ba69"
      },
      "execution_count": 93,
      "outputs": [
        {
          "output_type": "stream",
          "name": "stderr",
          "text": [
            "/usr/local/lib/python3.10/dist-packages/ipykernel/ipkernel.py:283: DeprecationWarning: `should_run_async` will not call `transform_cell` automatically in the future. Please pass the result to `transformed_cell` argument and any exception that happen during thetransform in `preprocessing_exc_tuple` in IPython 7.17 and above.\n",
            "  and should_run_async(code)\n"
          ]
        },
        {
          "output_type": "display_data",
          "data": {
            "text/plain": [
              "<Figure size 640x480 with 1 Axes>"
            ],
            "image/png": "[encoded data removed]"
          },
          "metadata": {}
        }
      ]
    },
    {
      "cell_type": "code",
      "source": [
        "!pip install swifter\n"
      ],
      "metadata": {
        "id": "5m0EfXxW_GQW"
      },
      "execution_count": null,
      "outputs": []
    },
    {
      "cell_type": "code",
      "source": [
        "from nltk.tokenize import word_tokenize\n",
        "from nltk.util import ngrams\n",
        "import swifter\n",
        "\n",
        "\n",
        "def get_ngrams(text, n=2):\n",
        "    text = str(text)\n",
        "    n_grams = ngrams(text.split(), n)\n",
        "    returnVal = []\n",
        "\n",
        "    try:\n",
        "        for grams in n_grams:\n",
        "            returnVal.append('_'.join(grams))\n",
        "    except(RuntimeError):\n",
        "        pass\n",
        "\n",
        "    return ' '.join(returnVal).strip()\n",
        "\n",
        "df[\"bigram_text\"] = df[\"cleaned_text\"].swifter.apply(get_ngrams, n=2)\n"
      ],
      "metadata": {
        "colab": {
          "base_uri": "https://localhost:8080/",
          "height": 105,
          "referenced_widgets": [
            "7d85926e4a654f19939f578bcd6483cc",
            "3245654b23b648ada76854f65814af8f",
            "0eccf30c064f4653835a2cd7ff6c342b",
            "1d416e2a4f594dfdb8ac40317b778c2e",
            "3c67503270ee49eb872cbec6e6e2b5fa",
            "b4e7f220580a4a79b9ee38e8f4c30402",
            "494f1d192baa46aab1422388cc29a63d",
            "85e4a51c8adb47ef913647dcaa1e8063",
            "327b4017c7ea43e9a13332d98d50d47e",
            "302ec862704d4a48a915d9321104e2c4",
            "c66672c50a4a4a0bbeb11b96ffd92924"
          ]
        },
        "id": "yUyJ7fvT_Kvp",
        "outputId": "f176f339-29f4-4b06-d2e9-2b9eefdea579"
      },
      "execution_count": 79,
      "outputs": [
        {
          "output_type": "stream",
          "name": "stderr",
          "text": [
            "/usr/local/lib/python3.10/dist-packages/ipykernel/ipkernel.py:283: DeprecationWarning: `should_run_async` will not call `transform_cell` automatically in the future. Please pass the result to `transformed_cell` argument and any exception that happen during thetransform in `preprocessing_exc_tuple` in IPython 7.17 and above.\n",
            "  and should_run_async(code)\n"
          ]
        },
        {
          "output_type": "display_data",
          "data": {
            "text/plain": [
              "Pandas Apply:   0%|          | 0/7772 [00:00<?, ?it/s]"
            ],
            "application/vnd.jupyter.widget-view+json": {
              "version_major": 2,
              "version_minor": 0,
              "model_id": "7d85926e4a654f19939f578bcd6483cc"
            }
          },
          "metadata": {}
        }
      ]
    },
    {
      "cell_type": "code",
      "source": [
        "# Import the wordcloud library\n",
        "from wordcloud import WordCloud\n",
        "# Join the different processed titles together.\n",
        "long_string = ','.join(list(df['bigram_text'].values))\n",
        "long_string = long_string.replace(\"chatgpt_is\", '')\n",
        "long_string = long_string.replace(\"rt_chatgpt\", '')\n",
        "long_string = long_string.replace(\"rt_the\", '')\n",
        "\n",
        "long_string = long_string.replace(\"hey_there\", '')\n",
        "long_string = long_string.replace(\"there_the\", '')\n",
        "long_string = long_string.replace(\"of_the\", '')\n",
        "long_string = long_string.replace(\"rt_i\", '')\n",
        "long_string = long_string.replace(\"in_a\", '')\n",
        "long_string = long_string.replace(\"with_the\", '')\n",
        "\n",
        "\n",
        "\n",
        "# Create a WordCloud object\n",
        "wordcloud = WordCloud(background_color=\"white\", max_words=5000, contour_width=3, contour_color='steelblue')\n",
        "# Generate a word cloud\n",
        "wordcloud.generate(long_string)\n",
        "# Visualize the word cloud\n",
        "wordcloud.to_image()\n"
      ],
      "metadata": {
        "colab": {
          "base_uri": "https://localhost:8080/",
          "height": 309
        },
        "id": "NZjKBlFB8Av3",
        "outputId": "f6cc4e83-9c81-4c01-acc3-f69b6000bdb4"
      },
      "execution_count": 90,
      "outputs": [
        {
          "output_type": "stream",
          "name": "stderr",
          "text": [
            "/usr/local/lib/python3.10/dist-packages/ipykernel/ipkernel.py:283: DeprecationWarning: `should_run_async` will not call `transform_cell` automatically in the future. Please pass the result to `transformed_cell` argument and any exception that happen during thetransform in `preprocessing_exc_tuple` in IPython 7.17 and above.\n",
            "  and should_run_async(code)\n",
            "/usr/local/lib/python3.10/dist-packages/wordcloud/wordcloud.py:106: MatplotlibDeprecationWarning: The get_cmap function was deprecated in Matplotlib 3.7 and will be removed two minor releases later. Use ``matplotlib.colormaps[name]`` or ``matplotlib.colormaps.get_cmap(obj)`` instead.\n",
            "  self.colormap = plt.cm.get_cmap(colormap)\n"
          ]
        },
        {
          "output_type": "execute_result",
          "data": {
            "text/plain": [
              "<PIL.Image.Image image mode=RGB size=400x200 at 0x7F232CDC26E0>"
            ],
            "image/png": "[encoded data removed]"
          },
          "metadata": {},
          "execution_count": 90
        }
      ]
    }
  ]
}